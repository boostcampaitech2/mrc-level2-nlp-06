{
 "cells": [
  {
   "cell_type": "code",
   "execution_count": 7,
   "metadata": {},
   "outputs": [],
   "source": [
    "import logging\n",
    "import os\n",
    "import sys\n",
    "from utils.preprocess import prepare_datasets_with_setting\n",
    "from typing import List, Callable, NoReturn, NewType, Any\n",
    "import dataclasses\n",
    "from datasets import load_metric, load_from_disk, Dataset, DatasetDict\n",
    "from transformers import AutoConfig, AutoModelForQuestionAnswering, AutoTokenizer\n",
    "import torch\n",
    "from transformers import (\n",
    "    DataCollatorWithPadding,\n",
    "    EvalPrediction,\n",
    "    HfArgumentParser,\n",
    "    TrainingArguments,\n",
    "    set_seed,\n",
    ")\n",
    "\n",
    "from tokenizers import Tokenizer\n",
    "from tokenizers.models import WordPiece\n",
    "\n",
    "from utils.trainer_qa import QuestionAnsweringTrainer\n",
    "\n",
    "from arguments import (\n",
    "    ModelArguments,\n",
    "    DataTrainingArguments,\n",
    ")"
   ]
  },
  {
   "cell_type": "code",
   "execution_count": 10,
   "metadata": {},
   "outputs": [],
   "source": [
    "datasets = load_from_disk(\"../data/train_dataset\")"
   ]
  },
  {
   "cell_type": "code",
   "execution_count": 23,
   "metadata": {},
   "outputs": [
    {
     "data": {
      "text/plain": [
       "DatasetDict({\n",
       "    train: Dataset({\n",
       "        features: ['__index_level_0__', 'answers', 'context', 'document_id', 'id', 'question', 'title'],\n",
       "        num_rows: 3952\n",
       "    })\n",
       "    validation: Dataset({\n",
       "        features: ['__index_level_0__', 'answers', 'context', 'document_id', 'id', 'question', 'title'],\n",
       "        num_rows: 240\n",
       "    })\n",
       "})"
      ]
     },
     "execution_count": 23,
     "metadata": {},
     "output_type": "execute_result"
    }
   ],
   "source": [
    "datasets"
   ]
  },
  {
   "cell_type": "code",
   "execution_count": 16,
   "metadata": {},
   "outputs": [],
   "source": [
    "from retrieval import *"
   ]
  },
  {
   "cell_type": "code",
   "execution_count": 17,
   "metadata": {},
   "outputs": [],
   "source": [
    "with open(\"../data/wikipedia_documents.json\", \"r\", encoding=\"utf-8\") as f:\n",
    "            wiki = json.load(f)\n",
    "\n",
    "contexts = list(\n",
    "            dict.fromkeys([v[\"text\"] for v in wiki.values()])\n",
    "        ) "
   ]
  },
  {
   "cell_type": "code",
   "execution_count": 19,
   "metadata": {},
   "outputs": [],
   "source": [
    "model_checkpoint = \"klue/bert-base\"\n",
    "tokenizer = AutoTokenizer.from_pretrained(model_checkpoint)"
   ]
  },
  {
   "cell_type": "code",
   "execution_count": 20,
   "metadata": {},
   "outputs": [],
   "source": [
    "tokenize_fn = tokenizer.tokenize"
   ]
  },
  {
   "cell_type": "code",
   "execution_count": 22,
   "metadata": {},
   "outputs": [
    {
     "data": {
      "application/vnd.jupyter.widget-view+json": {
       "model_id": "350f54cd1ad94b608f7d4a6066380c7c",
       "version_major": 2,
       "version_minor": 0
      },
      "text/plain": [
       "  0%|          | 0/56737 [00:00<?, ?it/s]"
      ]
     },
     "metadata": {},
     "output_type": "display_data"
    }
   ],
   "source": [
    "\n",
    "tokenized_corpus = []\n",
    "p_embs = []\n",
    "for p in tqdm(contexts):\n",
    "    tokenized_corpus.append(tokenize_fn(p, padding=\"max_length\", truncation=True, return_tensors='pt'))\n",
    "bm25 = MyBm25(tokenized_corpus)\n"
   ]
  },
  {
   "cell_type": "code",
   "execution_count": 31,
   "metadata": {},
   "outputs": [],
   "source": [
    "k1=1.5\n",
    "b=0.75\n",
    "epsilon=0.25"
   ]
  },
  {
   "cell_type": "code",
   "execution_count": 33,
   "metadata": {},
   "outputs": [],
   "source": [
    "data_path = \"../\""
   ]
  },
  {
   "cell_type": "code",
   "execution_count": 35,
   "metadata": {},
   "outputs": [
    {
     "name": "stdout",
     "output_type": "stream",
     "text": [
      "Embedding bm25 pickle load.\n"
     ]
    }
   ],
   "source": [
    "bm25_name = f\"bm25.bin\"\n",
    "bm25_path = os.path.join(data_path, bm25_name)\n",
    "if os.path.isfile(bm25_path):\n",
    "    with open(bm25_path, \"rb\") as file:\n",
    "        bm25 = pickle.load(file)\n",
    "    print(\"Embedding bm25 pickle load.\")\n",
    "else:\n",
    "    print(\"Building bm25... It may take 1 minute and 30 seconds...\")\n",
    "    # bm25 must tokenizer first \n",
    "    # because it runs pool inside and this cuases unexpected result.\n",
    "    tokenized_corpus = []\n",
    "    for c in contexts:\n",
    "        tokenized_corpus.append(tokenize_fn(c))\n",
    "    bm25 = MyBm25(tokenized_corpus, k1 = k1, b = b, epsilon=epsilon)\n",
    "    with open(bm25_path, \"wb\") as file:\n",
    "        pickle.dump(bm25, file)\n",
    "    print(\"bm25 pickle saved.\")"
   ]
  },
  {
   "cell_type": "code",
   "execution_count": 36,
   "metadata": {},
   "outputs": [],
   "source": [
    "def get_top_n(bm25, query, documents, n=10):\n",
    "    assert bm25.corpus_size == len(documents), \"The documents given don't match the index corpus!\"\n",
    "\n",
    "    scores = bm25.get_scores(query)\n",
    "\n",
    "    top_n_idx = np.argsort(scores)[::-1][:n]\n",
    "    doc_score = scores[top_n_idx]\n",
    "        \n",
    "    return doc_score, top_n_idx"
   ]
  },
  {
   "cell_type": "code",
   "execution_count": 72,
   "metadata": {},
   "outputs": [
    {
     "data": {
      "application/vnd.jupyter.widget-view+json": {
       "model_id": "eaf9aa9e99f743b685071314e044b17e",
       "version_major": 2,
       "version_minor": 0
      },
      "text/plain": [
       "  0%|          | 0/240 [00:00<?, ?it/s]"
      ]
     },
     "metadata": {},
     "output_type": "display_data"
    },
    {
     "name": "stdout",
     "output_type": "stream",
     "text": [
      "done!\n"
     ]
    }
   ],
   "source": [
    "doc_scores = []\n",
    "for q in tqdm(datasets['validation']['question']):\n",
    "    tok_q = tokenize_fn(q) \n",
    "    scores = bm25.get_scores(tok_q)\n",
    "    doc_scores.append(scores)\n",
    "print(\"done!\")\n",
    "#return doc_scores, doc_indices\n"
   ]
  },
  {
   "cell_type": "code",
   "execution_count": 73,
   "metadata": {},
   "outputs": [
    {
     "name": "stdout",
     "output_type": "stream",
     "text": [
      "0.9208333333333333\n"
     ]
    }
   ],
   "source": [
    "doc_scores = np.array(doc_scores)\n",
    "doc_scores = torch.tensor(doc_scores)\n",
    "ranks = torch.argsort(doc_scores, dim=1, descending=True).squeeze()\n",
    "k = 20\n",
    "context_list = []\n",
    "\n",
    "for index in range(len(ranks)):\n",
    "    k_list = []\n",
    "    for i in range(k):\n",
    "        k_list.append(contexts[ranks[index][i]])\n",
    "    context_list.append(k_list)\n",
    "    \n",
    "correct= 0\n",
    "for index in range(len(context_list)):\n",
    "    if datasets['validation']['context'][index] in context_list[index]:\n",
    "        correct+=1 \n",
    "print(correct/len(context_list))"
   ]
  },
  {
   "cell_type": "code",
   "execution_count": 74,
   "metadata": {},
   "outputs": [],
   "source": [
    "validdata = Dataset.from_dict({'answers':datasets['validation']['answers'], \n",
    "                    'context':context_list,\n",
    "                    'question':datasets['validation']['question']})\n"
   ]
  },
  {
   "cell_type": "code",
   "execution_count": 75,
   "metadata": {},
   "outputs": [
    {
     "data": {
      "text/plain": [
       "DatasetDict({\n",
       "    train: Dataset({\n",
       "        features: ['__index_level_0__', 'answers', 'context', 'document_id', 'id', 'question', 'title'],\n",
       "        num_rows: 3952\n",
       "    })\n",
       "    validation: Dataset({\n",
       "        features: ['__index_level_0__', 'answers', 'context', 'document_id', 'id', 'question', 'title'],\n",
       "        num_rows: 240\n",
       "    })\n",
       "})"
      ]
     },
     "execution_count": 75,
     "metadata": {},
     "output_type": "execute_result"
    }
   ],
   "source": [
    "datasets"
   ]
  },
  {
   "cell_type": "code",
   "execution_count": 81,
   "metadata": {},
   "outputs": [],
   "source": [
    "topkdata = DatasetDict({\"train\":traindata,\"validation\":validdata})"
   ]
  },
  {
   "cell_type": "code",
   "execution_count": 82,
   "metadata": {},
   "outputs": [],
   "source": [
    "topkdata.save_to_disk(\"../data/topk_dataset/\")"
   ]
  },
  {
   "cell_type": "code",
   "execution_count": null,
   "metadata": {},
   "outputs": [],
   "source": []
  }
 ],
 "metadata": {
  "interpreter": {
   "hash": "d4d1e4263499bec80672ea0156c357c1ee493ec2b1c70f0acce89fc37c4a6abe"
  },
  "kernelspec": {
   "display_name": "Python 3.8.5 64-bit ('base': conda)",
   "name": "python3"
  },
  "language_info": {
   "codemirror_mode": {
    "name": "ipython",
    "version": 3
   },
   "file_extension": ".py",
   "mimetype": "text/x-python",
   "name": "python",
   "nbconvert_exporter": "python",
   "pygments_lexer": "ipython3",
   "version": "3.8.5"
  },
  "orig_nbformat": 4
 },
 "nbformat": 4,
 "nbformat_minor": 2
}
