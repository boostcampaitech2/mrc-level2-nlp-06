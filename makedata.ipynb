{
 "cells": [
  {
   "cell_type": "code",
   "execution_count": 1,
   "metadata": {},
   "outputs": [],
   "source": [
    "import logging\n",
    "import os\n",
    "import sys\n",
    "from utils.preprocess import prepare_datasets_with_setting\n",
    "from typing import List, Callable, NoReturn, NewType, Any\n",
    "import dataclasses\n",
    "from datasets import load_metric, load_from_disk, Dataset, DatasetDict\n",
    "from transformers import AutoConfig, AutoModelForQuestionAnswering, AutoTokenizer\n",
    "import torch\n",
    "from transformers import (\n",
    "    DataCollatorWithPadding,\n",
    "    EvalPrediction,\n",
    "    HfArgumentParser,\n",
    "    TrainingArguments,\n",
    "    set_seed,\n",
    ")\n",
    "\n",
    "from tokenizers import Tokenizer\n",
    "from tokenizers.models import WordPiece\n",
    "\n",
    "from utils.trainer_qa import QuestionAnsweringTrainer\n",
    "\n",
    "from arguments import (\n",
    "    ModelArguments,\n",
    "    DataTrainingArguments,\n",
    ")"
   ]
  },
  {
   "cell_type": "code",
   "execution_count": 2,
   "metadata": {},
   "outputs": [],
   "source": [
    "\n",
    "datasets = load_from_disk(\"../data/train_dataset\")\n",
    "testsets = load_from_disk(\"../data/test_dataset\")"
   ]
  },
  {
   "cell_type": "code",
   "execution_count": 3,
   "metadata": {},
   "outputs": [],
   "source": [
    "from retrieval import *"
   ]
  },
  {
   "cell_type": "code",
   "execution_count": 4,
   "metadata": {},
   "outputs": [],
   "source": [
    "with open(\"../data/wikipedia_documents.json\", \"r\", encoding=\"utf-8\") as f:\n",
    "            wiki = json.load(f)\n",
    "\n",
    "contexts = list(\n",
    "            dict.fromkeys([v[\"text\"] for v in wiki.values()])\n",
    "        ) "
   ]
  },
  {
   "cell_type": "code",
   "execution_count": 5,
   "metadata": {},
   "outputs": [],
   "source": [
    "model_checkpoint = \"klue/bert-base\"\n",
    "tokenizer = AutoTokenizer.from_pretrained(model_checkpoint)"
   ]
  },
  {
   "cell_type": "code",
   "execution_count": 6,
   "metadata": {},
   "outputs": [],
   "source": [
    "tokenize_fn = tokenizer.tokenize"
   ]
  },
  {
   "cell_type": "code",
   "execution_count": 7,
   "metadata": {},
   "outputs": [
    {
     "data": {
      "application/vnd.jupyter.widget-view+json": {
       "model_id": "0abc92e820a14b0ca772816407b9c09e",
       "version_major": 2,
       "version_minor": 0
      },
      "text/plain": [
       "  0%|          | 0/56737 [00:00<?, ?it/s]"
      ]
     },
     "metadata": {},
     "output_type": "display_data"
    }
   ],
   "source": [
    "\n",
    "tokenized_corpus = []\n",
    "p_embs = []\n",
    "for p in tqdm(contexts):\n",
    "    tokenized_corpus.append(tokenize_fn(p, padding=\"max_length\", truncation=True, return_tensors='pt'))\n",
    "bm25 = MyBm25(tokenized_corpus)"
   ]
  },
  {
   "cell_type": "code",
   "execution_count": 8,
   "metadata": {},
   "outputs": [],
   "source": [
    "def get_sparse_embedding(bm25,contexts, tokenize_fn,data_path =\"../\",k1=1.5, b=0.75, epsilon=0.25) -> NoReturn:\n",
    "\n",
    "    \"\"\"\n",
    "    Summary:\n",
    "        Passage Embedding을 만들고\n",
    "        TFIDF와 Embedding을 pickle로 저장합니다.\n",
    "        만약 미리 저장된 파일이 있으면 저장된 pickle을 불러옵니다.\n",
    "    \"\"\"\n",
    "    bm25_name = f\"bm25.bin\"\n",
    "    bm25_path = os.path.join(data_path, bm25_name)\n",
    "    if os.path.isfile(bm25_path):\n",
    "        with open(bm25_path, \"rb\") as file:\n",
    "            bm25 = pickle.load(file)\n",
    "        print(\"Embedding bm25 pickle load.\")\n",
    "    else:\n",
    "        print(\"Building bm25... It may take 1 minute and 30 seconds...\")\n",
    "        # bm25 must tokenizer first \n",
    "        # because it runs pool inside and this cuases unexpected result.\n",
    "        tokenized_corpus = []\n",
    "        for c in contexts:\n",
    "            tokenized_corpus.append(tokenize_fn(c))\n",
    "        bm25 = MyBm25(tokenized_corpus, k1 = k1, b = b, epsilon=epsilon)\n",
    "        with open(bm25_path, \"wb\") as file:\n",
    "            pickle.dump(bm25, file)\n",
    "        print(\"bm25 pickle saved.\")\n",
    "    return bm25"
   ]
  },
  {
   "cell_type": "code",
   "execution_count": 9,
   "metadata": {},
   "outputs": [
    {
     "name": "stderr",
     "output_type": "stream",
     "text": [
      "Token indices sequence length is longer than the specified maximum sequence length for this model (1131 > 512). Running this sequence through the model will result in indexing errors\n"
     ]
    },
    {
     "name": "stdout",
     "output_type": "stream",
     "text": [
      "Building bm25... It may take 1 minute and 30 seconds...\n",
      "bm25 pickle saved.\n"
     ]
    }
   ],
   "source": [
    "bm25 = get_sparse_embedding(bm25,contexts,tokenize_fn)"
   ]
  },
  {
   "cell_type": "code",
   "execution_count": 10,
   "metadata": {},
   "outputs": [],
   "source": [
    "k1=1.5\n",
    "b=0.75\n",
    "epsilon=0.25\n",
    "topk=20"
   ]
  },
  {
   "cell_type": "code",
   "execution_count": 11,
   "metadata": {},
   "outputs": [],
   "source": [
    "data_path = \"../\""
   ]
  },
  {
   "cell_type": "code",
   "execution_count": 12,
   "metadata": {},
   "outputs": [
    {
     "name": "stdout",
     "output_type": "stream",
     "text": [
      "Embedding bm25 pickle load.\n"
     ]
    }
   ],
   "source": [
    "bm25_name = f\"bm25.bin\"\n",
    "bm25_path = os.path.join(data_path, bm25_name)\n",
    "if os.path.isfile(bm25_path):\n",
    "    with open(bm25_path, \"rb\") as file:\n",
    "        bm25 = pickle.load(file)\n",
    "    print(\"Embedding bm25 pickle load.\")\n",
    "else:\n",
    "    print(\"Building bm25... It may take 1 minute and 30 seconds...\")\n",
    "    # bm25 must tokenizer first \n",
    "    # because it runs pool inside and this cuases unexpected result.\n",
    "    tokenized_corpus = []\n",
    "    for c in contexts:\n",
    "        tokenized_corpus.append(tokenize_fn(c))\n",
    "    bm25 = MyBm25(tokenized_corpus, k1 = k1, b = b, epsilon=epsilon)\n",
    "    with open(bm25_path, \"wb\") as file:\n",
    "        pickle.dump(bm25, file)\n",
    "    print(\"bm25 pickle saved.\")"
   ]
  },
  {
   "cell_type": "code",
   "execution_count": 13,
   "metadata": {},
   "outputs": [
    {
     "data": {
      "text/plain": [
       "'처음으로 부실 경영인에 대한 보상 선고를 받은 회사는?'"
      ]
     },
     "execution_count": 13,
     "metadata": {},
     "output_type": "execute_result"
    }
   ],
   "source": [
    "datasets['validation']['question'][0]"
   ]
  },
  {
   "cell_type": "code",
   "execution_count": 14,
   "metadata": {},
   "outputs": [],
   "source": [
    "def get_top_n(bm25, query, documents, n=20):\n",
    "    assert bm25.corpus_size == len(documents), \"The documents given don't match the index corpus!\"\n",
    "\n",
    "    scores = bm25.get_scores(query)\n",
    "\n",
    "    top_n_idx = np.argsort(scores)[::-1][:n]\n",
    "    doc_score = scores[top_n_idx]\n",
    "        \n",
    "    return doc_score, top_n_idx"
   ]
  },
  {
   "cell_type": "code",
   "execution_count": 15,
   "metadata": {},
   "outputs": [],
   "source": [
    "plain = datasets['train']['question'][:-1000]\n",
    "addtext = datasets['train']['question'][-1000:]"
   ]
  },
  {
   "cell_type": "code",
   "execution_count": 17,
   "metadata": {},
   "outputs": [],
   "source": [
    "queries = addtext + datasets['validation']['question']"
   ]
  },
  {
   "cell_type": "code",
   "execution_count": 18,
   "metadata": {},
   "outputs": [],
   "source": [
    "ground_truth = datasets['train']['context'][-1000:] + datasets['validation']['context']"
   ]
  },
  {
   "cell_type": "code",
   "execution_count": 19,
   "metadata": {},
   "outputs": [
    {
     "data": {
      "text/plain": [
       "(1240, 1240)"
      ]
     },
     "execution_count": 19,
     "metadata": {},
     "output_type": "execute_result"
    }
   ],
   "source": [
    "len(queries), len(ground_truth)"
   ]
  },
  {
   "cell_type": "code",
   "execution_count": 31,
   "metadata": {},
   "outputs": [],
   "source": [
    "doc_scores = []\n",
    "doc_indices = []\n",
    "class Retriever:\n",
    "    def __init__(self, tf,bm25,contexts, queries, k =20):\n",
    "        self.tokenize_fn = tf\n",
    "        self.bm25 = bm25\n",
    "        self.contexts = contexts\n",
    "        self.k = k\n",
    "    def get_relevant_doc(self, query: str, k: Optional[int] = 1) -> Tuple[List, List]:\n",
    "        tok_q = self.tokenize_fn(query)\n",
    "        doc_score, doc_indices = self.bm25.get_top_n(tok_q, self.contexts, n = k)\n",
    "        return doc_score, doc_indices\n",
    "# parallel search\n",
    "# 하나로 쪼개서 안에 들어가서 각각 토크나이즈를 한다.\n",
    "retriever = Retriever(tokenize_fn, bm25, contexts, queries, topk)\n"
   ]
  },
  {
   "cell_type": "code",
   "execution_count": 32,
   "metadata": {},
   "outputs": [],
   "source": [
    "def par_search(retriever, queries, topk):\n",
    "    # pool.map may put only one argument. We need two arguments: datasets and topk.\n",
    "    def wrapper(query): \n",
    "        rel_doc = retriever.get_relevant_doc(query, k = topk)\n",
    "        return rel_doc\n",
    "\n",
    "    pool = Pool()\n",
    "\n",
    "    pool.restart() \n",
    "\n",
    "    rel_docs_score_indices = pool.map(wrapper, queries)\n",
    "    pool.close()\n",
    "    pool.join()\n",
    "\n",
    "    doc_scores = []\n",
    "    doc_indices = []\n",
    "    for s,idx in rel_docs_score_indices:\n",
    "        doc_scores.append( s )\n",
    "        doc_indices.append( idx )\n",
    "\n",
    "    return doc_scores, doc_indices\n"
   ]
  },
  {
   "cell_type": "code",
   "execution_count": 17,
   "metadata": {},
   "outputs": [],
   "source": [
    "doc_scores, doc_indices = par_search(retriever, queries, topk)"
   ]
  },
  {
   "cell_type": "code",
   "execution_count": null,
   "metadata": {},
   "outputs": [],
   "source": []
  },
  {
   "cell_type": "code",
   "execution_count": 19,
   "metadata": {},
   "outputs": [
    {
     "data": {
      "text/plain": [
       "array([14489,  6795, 20097, 52322,  2269, 20516, 17086, 38020, 51905,\n",
       "       39217,  1281, 32596,  1738,  4879, 51907, 13987,  9588,  3331,\n",
       "       51068, 56680])"
      ]
     },
     "execution_count": 19,
     "metadata": {},
     "output_type": "execute_result"
    }
   ],
   "source": [
    "# doc_scores = np.array(doc_scores)\n",
    "# doc_scores = torch.tensor(doc_scores)\n",
    "# ranks = torch.argsort(doc_scores, dim=1, descending=True).squeeze()\n",
    "# k = topk\n",
    "# context_list = []\n",
    "\n",
    "# for index in range(len(ranks)):\n",
    "#     k_list = []\n",
    "#     for i in range(k):\n",
    "#         k_list.append(contexts[ranks[index][i]])\n",
    "#     context_list.append(k_list)\n",
    "    \n",
    "# correct= 0\n",
    "# for index in range(len(context_list)):\n",
    "#     if datasets['validation']['context'][index] in context_list[index]:\n",
    "#         correct+=1 \n",
    "# print(correct/len(context_list))"
   ]
  },
  {
   "cell_type": "code",
   "execution_count": 25,
   "metadata": {},
   "outputs": [],
   "source": [
    "train_length = len(datasets['train']['question'])\n",
    "valid_length = len(datasets['validation']['question'])\n",
    "test_length = len(testsets['validation']['question'])"
   ]
  },
  {
   "cell_type": "code",
   "execution_count": 29,
   "metadata": {},
   "outputs": [],
   "source": [
    "expanded_train, expanded_valid, expanded_test = doc_scores[:train_length], doc_scores[train_length:train_length+valid_length], doc_scores[-test_length:]"
   ]
  },
  {
   "cell_type": "code",
   "execution_count": 18,
   "metadata": {},
   "outputs": [],
   "source": [
    "doc_scores=torch.tensor(np.array(doc_scores))"
   ]
  },
  {
   "cell_type": "code",
   "execution_count": 21,
   "metadata": {},
   "outputs": [
    {
     "data": {
      "text/plain": [
       "'처음으로 부실 경영인에 대한 보상 선고를 받은 회사는?'"
      ]
     },
     "execution_count": 21,
     "metadata": {},
     "output_type": "execute_result"
    }
   ],
   "source": [
    "datasets['validation']['question'][0]"
   ]
  },
  {
   "cell_type": "code",
   "execution_count": 19,
   "metadata": {},
   "outputs": [],
   "source": [
    "ranks = torch.argsort(doc_scores, dim=1, descending=True).squeeze()\n",
    "k = topk\n",
    "context_list = []\n",
    "for index in range(len(ranks)):\n",
    "    k_list = []\n",
    "    for i in range(k):\n",
    "        k_list.append(contexts[ranks[index][i]])\n",
    "    context_list.append(k_list)"
   ]
  },
  {
   "cell_type": "code",
   "execution_count": 36,
   "metadata": {},
   "outputs": [
    {
     "data": {
      "text/plain": [
       "20"
      ]
     },
     "execution_count": 36,
     "metadata": {},
     "output_type": "execute_result"
    }
   ],
   "source": [
    "len(context_list[0])"
   ]
  },
  {
   "cell_type": "code",
   "execution_count": 37,
   "metadata": {},
   "outputs": [
    {
     "data": {
      "text/plain": [
       "(3952, 240, 600)"
      ]
     },
     "execution_count": 37,
     "metadata": {},
     "output_type": "execute_result"
    }
   ],
   "source": [
    "len(expanded_train), len(expanded_valid), len(expanded_test)"
   ]
  },
  {
   "cell_type": "code",
   "execution_count": 38,
   "metadata": {},
   "outputs": [],
   "source": [
    "train_list, valid_list, test_list = context_list[:train_length], context_list[train_length:train_length+valid_length], context_list[-test_length:]"
   ]
  },
  {
   "cell_type": "code",
   "execution_count": 22,
   "metadata": {},
   "outputs": [],
   "source": [
    "from collections import OrderedDict"
   ]
  },
  {
   "cell_type": "code",
   "execution_count": 19,
   "metadata": {},
   "outputs": [
    {
     "data": {
      "text/plain": [
       "array([22832, 54841, 30647, 54679, 11576,  4550, 29719, 42526, 22749,\n",
       "          80, 55487,  5107, 20106, 55267, 24361, 24080,  3103, 51906,\n",
       "        5927, 14708, 31664, 14260,  7769, 32597, 49397, 29710,  8538,\n",
       "        9619,  5154, 17406, 56680, 51068,  3331,  9588, 13987, 51907,\n",
       "        4879,  1738, 32596,  1281, 39217, 51905, 38020, 17086, 20516,\n",
       "        2269, 52322, 20097,  6795, 14489])"
      ]
     },
     "execution_count": 19,
     "metadata": {},
     "output_type": "execute_result"
    }
   ],
   "source": [
    "doc_indices[0][::-1]"
   ]
  },
  {
   "cell_type": "code",
   "execution_count": 22,
   "metadata": {},
   "outputs": [],
   "source": [
    "topk = 4"
   ]
  },
  {
   "cell_type": "code",
   "execution_count": 23,
   "metadata": {},
   "outputs": [
    {
     "data": {
      "application/vnd.jupyter.widget-view+json": {
       "model_id": "4d93a817936448f9bde79b82037621f4",
       "version_major": 2,
       "version_minor": 0
      },
      "text/plain": [
       "  0%|          | 0/4192 [00:00<?, ?it/s]"
      ]
     },
     "metadata": {},
     "output_type": "display_data"
    }
   ],
   "source": [
    "context_list = []\n",
    "for idx in tqdm(range(len(doc_indices))):\n",
    "    doc_nega = doc_indices[idx][::-1]\n",
    "    toklist = []\n",
    "    for k in range(topk):\n",
    "        toklist.append(contexts[doc_nega[k]])\n",
    "    toklist = list(OrderedDict.fromkeys([ground_truth[idx]]+toklist))\n",
    "    txt = ' '.join((map(str, toklist)))\n",
    "    context_list.append(txt)"
   ]
  },
  {
   "cell_type": "code",
   "execution_count": 24,
   "metadata": {},
   "outputs": [],
   "source": [
    "t = context_list[:len(datasets['train']['context'])]"
   ]
  },
  {
   "cell_type": "code",
   "execution_count": 25,
   "metadata": {},
   "outputs": [],
   "source": [
    "v = context_list[len(datasets['train']['context']):]"
   ]
  },
  {
   "cell_type": "code",
   "execution_count": 28,
   "metadata": {},
   "outputs": [],
   "source": [
    "traindata = Dataset.from_dict({'answers':datasets['train']['answers'], \n",
    "                    'context':t,\n",
    "                    'id' : datasets['train']['id'],\n",
    "                    'question':datasets['train']['question']})\n",
    "\n",
    "validdata = Dataset.from_dict({'answers':datasets['validation']['answers'], \n",
    "                    'context':v,\n",
    "                    'id' : datasets['validation']['id'],\n",
    "                    'question':datasets['validation']['question']})\n",
    "\n",
    "top5 = DatasetDict({\"train\":traindata, \"validation\":validdata})\n",
    "\n",
    "top5.save_to_disk(\"../data/top5_dataset/\")"
   ]
  },
  {
   "cell_type": "code",
   "execution_count": 29,
   "metadata": {},
   "outputs": [],
   "source": [
    "validdata = Dataset.from_dict({'answers':datasets['validation']['answers'], \n",
    "                    'context':v,\n",
    "                    'id' : datasets['validation']['id'],\n",
    "                    'question':datasets['validation']['question']})\n"
   ]
  },
  {
   "cell_type": "code",
   "execution_count": 30,
   "metadata": {},
   "outputs": [],
   "source": [
    "top5 = DatasetDict({\"train\":traindata, \"validation\":validdata})"
   ]
  },
  {
   "cell_type": "code",
   "execution_count": 31,
   "metadata": {},
   "outputs": [],
   "source": [
    "top5.save_to_disk(\"../data/top5_dataset/\")"
   ]
  },
  {
   "cell_type": "code",
   "execution_count": null,
   "metadata": {},
   "outputs": [],
   "source": [
    "topkdata"
   ]
  },
  {
   "cell_type": "code",
   "execution_count": 4,
   "metadata": {},
   "outputs": [],
   "source": [
    "from tqdm import tqdm"
   ]
  },
  {
   "cell_type": "code",
   "execution_count": 5,
   "metadata": {},
   "outputs": [
    {
     "name": "stderr",
     "output_type": "stream",
     "text": [
      "100%|██████████| 3952/3952 [1:46:48<00:00,  1.62s/it]"
     ]
    },
    {
     "name": "stdout",
     "output_type": "stream",
     "text": [
      "372\n"
     ]
    },
    {
     "name": "stderr",
     "output_type": "stream",
     "text": [
      "\n"
     ]
    }
   ],
   "source": [
    "incorrect = 0\n",
    "listtxt = []\n",
    "train_or_valid = \"train\"\n",
    "for idx in tqdm(range(len(datasets[train_or_valid]['context']))):\n",
    "    if datasets[train_or_valid]['context'][idx] not in topkdata[train_or_valid]['context'][idx]:\n",
    "        incorrect += 1\n",
    "        txt = topkdata[train_or_valid]['context'][idx][:-1]\n",
    "        txt.append(datasets[train_or_valid]['context'][idx])\n",
    "        listtxt.append(listtxt)\n",
    "    else:\n",
    "        listtxt.append(topkdata[train_or_valid]['context'][idx])\n",
    "print(incorrect)"
   ]
  },
  {
   "cell_type": "code",
   "execution_count": null,
   "metadata": {},
   "outputs": [],
   "source": [
    "data = []\n",
    "for idx in range(len(listtxt)):\n",
    "    context = ' '.join((map(str, listtxt[idx])))\n",
    "    data.append(context)"
   ]
  },
  {
   "cell_type": "code",
   "execution_count": null,
   "metadata": {},
   "outputs": [
    {
     "ename": "Error",
     "evalue": "Kernel is dead",
     "output_type": "error",
     "traceback": [
      "Error: Kernel is dead",
      "at g._sendKernelShellControl (/opt/ml/.vscode-server/extensions/ms-toolsai.jupyter-2021.9.1101343141/out/client/extension.js:52:1006305)",
      "at g.sendShellMessage (/opt/ml/.vscode-server/extensions/ms-toolsai.jupyter-2021.9.1101343141/out/client/extension.js:52:1006074)",
      "at g.requestExecute (/opt/ml/.vscode-server/extensions/ms-toolsai.jupyter-2021.9.1101343141/out/client/extension.js:52:1008616)",
      "at d.requestExecute (/opt/ml/.vscode-server/extensions/ms-toolsai.jupyter-2021.9.1101343141/out/client/extension.js:37:328037)",
      "at S.requestExecute (/opt/ml/.vscode-server/extensions/ms-toolsai.jupyter-2021.9.1101343141/out/client/extension.js:32:19306)",
      "at w.executeCodeCell (/opt/ml/.vscode-server/extensions/ms-toolsai.jupyter-2021.9.1101343141/out/client/extension.js:52:300924)",
      "at w.execute (/opt/ml/.vscode-server/extensions/ms-toolsai.jupyter-2021.9.1101343141/out/client/extension.js:52:300551)",
      "at w.start (/opt/ml/.vscode-server/extensions/ms-toolsai.jupyter-2021.9.1101343141/out/client/extension.js:52:296215)",
      "at async t.CellExecutionQueue.executeQueuedCells (/opt/ml/.vscode-server/extensions/ms-toolsai.jupyter-2021.9.1101343141/out/client/extension.js:52:310950)",
      "at async t.CellExecutionQueue.start (/opt/ml/.vscode-server/extensions/ms-toolsai.jupyter-2021.9.1101343141/out/client/extension.js:52:310490)"
     ]
    }
   ],
   "source": [
    "traindata = Dataset.from_dict({'answers':topkdata['train']['answers'], \n",
    "                    'context':data,\n",
    "                    'question':topkdata['train']['question']})\n"
   ]
  },
  {
   "cell_type": "code",
   "execution_count": null,
   "metadata": {},
   "outputs": [],
   "source": [
    "validdata = Dataset.from_dict({'answers':topkdata['validation']['answers'], \n",
    "                    'context':data,\n",
    "                    'question':topkdata['validation']['question']})\n"
   ]
  },
  {
   "cell_type": "code",
   "execution_count": 82,
   "metadata": {},
   "outputs": [],
   "source": [
    "topkdata.save_to_disk(\"../data/topk_dataset/\")"
   ]
  },
  {
   "cell_type": "markdown",
   "metadata": {},
   "source": [
    "Re BM"
   ]
  },
  {
   "cell_type": "code",
   "execution_count": 20,
   "metadata": {},
   "outputs": [],
   "source": [
    "from retrieval import MyBm25"
   ]
  },
  {
   "cell_type": "code",
   "execution_count": 21,
   "metadata": {},
   "outputs": [],
   "source": [
    "def get_sparse_embedding(bm25,contexts, tokenize_fn,data_path =\"../\",k1=1.5, b=0.75, epsilon=0.25) -> NoReturn:\n",
    "\n",
    "    \"\"\"\n",
    "    Summary:\n",
    "        Passage Embedding을 만들고\n",
    "        TFIDF와 Embedding을 pickle로 저장합니다.\n",
    "        만약 미리 저장된 파일이 있으면 저장된 pickle을 불러옵니다.\n",
    "    \"\"\"\n",
    "    bm25_name = f\"bm25.bin\"\n",
    "    bm25_path = os.path.join(data_path, bm25_name)\n",
    "    if os.path.isfile(bm25_path):\n",
    "        with open(bm25_path, \"rb\") as file:\n",
    "            bm25 = pickle.load(file)\n",
    "        print(\"Embedding bm25 pickle load.\")\n",
    "    else:\n",
    "        print(\"Building bm25... It may take 1 minute and 30 seconds...\")\n",
    "        # bm25 must tokenizer first \n",
    "        # because it runs pool inside and this cuases unexpected result.\n",
    "        tokenized_corpus = []\n",
    "        for c in contexts:\n",
    "            tokenized_corpus.append(tokenize_fn(c))\n",
    "        bm25 = MyBm25(tokenized_corpus, k1 = k1, b = b, epsilon=epsilon)\n",
    "        with open(bm25_path, \"wb\") as file:\n",
    "            pickle.dump(bm25, file)\n",
    "        print(\"bm25 pickle saved.\")\n",
    "    return bm25"
   ]
  },
  {
   "cell_type": "code",
   "execution_count": 22,
   "metadata": {},
   "outputs": [],
   "source": [
    "bm25 = MyBm25(tokenized_corpus)"
   ]
  },
  {
   "cell_type": "code",
   "execution_count": 23,
   "metadata": {},
   "outputs": [
    {
     "name": "stdout",
     "output_type": "stream",
     "text": [
      "Embedding bm25 pickle load.\n"
     ]
    }
   ],
   "source": [
    "se = get_sparse_embedding(bm25,contexts,tokenize_fn)\n",
    "bm25 = se"
   ]
  },
  {
   "cell_type": "code",
   "execution_count": 24,
   "metadata": {},
   "outputs": [
    {
     "data": {
      "application/vnd.jupyter.widget-view+json": {
       "model_id": "f494707c001349cea049ef005bec226d",
       "version_major": 2,
       "version_minor": 0
      },
      "text/plain": [
       "  0%|          | 0/1240 [00:00<?, ?it/s]"
      ]
     },
     "metadata": {},
     "output_type": "display_data"
    },
    {
     "name": "stdout",
     "output_type": "stream",
     "text": [
      "done!\n"
     ]
    }
   ],
   "source": [
    "doc_scores = []\n",
    "for q in tqdm(queries):\n",
    "    tok_q = tokenize_fn(q)\n",
    "    scores = bm25.get_scores(tok_q)\n",
    "    doc_scores.append(scores)\n",
    "print(\"done!\")\n",
    "#return doc_scores, doc_indices"
   ]
  },
  {
   "cell_type": "code",
   "execution_count": null,
   "metadata": {},
   "outputs": [],
   "source": []
  },
  {
   "cell_type": "code",
   "execution_count": 25,
   "metadata": {},
   "outputs": [],
   "source": [
    "doc_scores = torch.tensor(np.array(doc_scores))"
   ]
  },
  {
   "cell_type": "code",
   "execution_count": 26,
   "metadata": {},
   "outputs": [],
   "source": [
    "ranks = torch.argsort(doc_scores, dim=1, descending=True).squeeze()"
   ]
  },
  {
   "cell_type": "code",
   "execution_count": 81,
   "metadata": {},
   "outputs": [
    {
     "data": {
      "text/plain": [
       "600"
      ]
     },
     "execution_count": 81,
     "metadata": {},
     "output_type": "execute_result"
    }
   ],
   "source": [
    "len(doc_scores[-len(testsets['validation']['question']):])"
   ]
  },
  {
   "cell_type": "code",
   "execution_count": 27,
   "metadata": {},
   "outputs": [
    {
     "data": {
      "text/plain": [
       "1240"
      ]
     },
     "execution_count": 27,
     "metadata": {},
     "output_type": "execute_result"
    }
   ],
   "source": [
    "len(doc_scores)"
   ]
  },
  {
   "cell_type": "code",
   "execution_count": 82,
   "metadata": {},
   "outputs": [],
   "source": [
    "doc_scores = doc_scores[-len(testsets['validation']['question']):]"
   ]
  },
  {
   "cell_type": "code",
   "execution_count": 30,
   "metadata": {},
   "outputs": [],
   "source": [
    "\n",
    "ranks = torch.argsort(doc_scores, dim=1, descending=True).squeeze()\n",
    "\n",
    "context_list = []\n",
    "\n",
    "for index in range(len(ranks)):\n",
    "    k_list = []\n",
    "    for i in range(topk):\n",
    "        k_list.append(contexts[ranks[index][i]])\n",
    "    context_list.append(k_list)"
   ]
  },
  {
   "cell_type": "code",
   "execution_count": 31,
   "metadata": {},
   "outputs": [
    {
     "data": {
      "text/plain": [
       "1240"
      ]
     },
     "execution_count": 31,
     "metadata": {},
     "output_type": "execute_result"
    }
   ],
   "source": [
    "len(context_list)"
   ]
  },
  {
   "cell_type": "code",
   "execution_count": 32,
   "metadata": {},
   "outputs": [],
   "source": [
    "train_c, valid_c = context_list[:1000], context_list[1000:]"
   ]
  },
  {
   "cell_type": "code",
   "execution_count": 38,
   "metadata": {},
   "outputs": [],
   "source": [
    "added_train = []\n",
    "for c in train_c:\n",
    "    txt = ' '.join((map(str, c)))\n",
    "    added_train.append(txt)\n",
    "\n",
    "added_valid = []\n",
    "for c in valid_c:\n",
    "    txt = ' '.join((map(str, c)))\n",
    "    added_valid.append(txt)"
   ]
  },
  {
   "cell_type": "code",
   "execution_count": 41,
   "metadata": {},
   "outputs": [
    {
     "data": {
      "text/plain": [
       "1000"
      ]
     },
     "execution_count": 41,
     "metadata": {},
     "output_type": "execute_result"
    }
   ],
   "source": [
    "len(datasets['train']['answers'][-1000:])"
   ]
  },
  {
   "cell_type": "code",
   "execution_count": 42,
   "metadata": {},
   "outputs": [],
   "source": [
    "traindata = Dataset.from_dict({'answers':datasets['train']['answers'][-1000:], \n",
    "                    'context':added_train,\n",
    "                    'id' : datasets['train']['id'][-1000:],\n",
    "                    'question':datasets['train']['question'][-1000:]})\n",
    "\n",
    "validdata = Dataset.from_dict({'answers':datasets['validation']['answers'], \n",
    "                    'context':added_valid,\n",
    "                    'id' : datasets['validation']['id'],\n",
    "                    'question':datasets['validation']['question']})\n",
    "\n",
    "top5 = DatasetDict({\"train\":traindata, \"validation\":validdata})\n",
    "\n",
    "top5.save_to_disk(\"../data/added_dataset/\")"
   ]
  },
  {
   "cell_type": "code",
   "execution_count": 49,
   "metadata": {},
   "outputs": [],
   "source": [
    "traindata = Dataset.from_dict({'answers':datasets['train']['answers'][:-1000], \n",
    "                    'context':datasets['train']['context'][:-1000],\n",
    "                    'id' : datasets['train']['id'][:-1000],\n",
    "                    'question':datasets['train']['question'][:-1000]})\n",
    "\n",
    "validdata = Dataset.from_dict({'answers':datasets['validation']['answers'], \n",
    "                    'context':datasets['validation']['context'],\n",
    "                    'id' : datasets['validation']['id'],\n",
    "                    'question':datasets['validation']['question']})\n",
    "\n",
    "top5 = DatasetDict({\"train\":traindata, \"validation\":validdata})\n",
    "\n",
    "top5.save_to_disk(\"../data/new_train_dataset/\")"
   ]
  },
  {
   "cell_type": "code",
   "execution_count": 50,
   "metadata": {},
   "outputs": [
    {
     "data": {
      "text/plain": [
       "(2952, 240)"
      ]
     },
     "execution_count": 50,
     "metadata": {},
     "output_type": "execute_result"
    }
   ],
   "source": [
    "len(traindata), len(validdata)"
   ]
  },
  {
   "cell_type": "code",
   "execution_count": 90,
   "metadata": {},
   "outputs": [],
   "source": [
    "with open('./new_wiki.txt', 'w') as f:\n",
    "    for item in context_list:\n",
    "        f.write(\"%s\\n\" % item)"
   ]
  },
  {
   "cell_type": "code",
   "execution_count": null,
   "metadata": {},
   "outputs": [],
   "source": []
  }
 ],
 "metadata": {
  "interpreter": {
   "hash": "d4d1e4263499bec80672ea0156c357c1ee493ec2b1c70f0acce89fc37c4a6abe"
  },
  "kernelspec": {
   "display_name": "Python 3.8.5 64-bit ('base': conda)",
   "name": "python3"
  },
  "language_info": {
   "codemirror_mode": {
    "name": "ipython",
    "version": 3
   },
   "file_extension": ".py",
   "mimetype": "text/x-python",
   "name": "python",
   "nbconvert_exporter": "python",
   "pygments_lexer": "ipython3",
   "version": "3.8.5"
  },
  "orig_nbformat": 4
 },
 "nbformat": 4,
 "nbformat_minor": 2
}
