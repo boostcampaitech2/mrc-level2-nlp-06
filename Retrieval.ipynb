{
 "cells": [
  {
   "cell_type": "markdown",
   "id": "280e1171-2bfb-4a1e-a5c1-343c7c7a7c1b",
   "metadata": {},
   "source": [
    "# 학습 데이터 불러오는 과정 훑어보기"
   ]
  },
  {
   "cell_type": "code",
   "execution_count": 1,
   "metadata": {},
   "outputs": [],
   "source": [
    "import os\n",
    "import json"
   ]
  },
  {
   "cell_type": "markdown",
   "id": "2bfe9de3-bc7e-4c49-87ab-6265a366bd4a",
   "metadata": {},
   "source": [
    "베이스라인 코드를 이해하는데 어려움이 있으신 캠퍼분들이 있을거 같아 주말동안 이해해 본 학습 데이터를 불러오는 과정을 한번 정리해봤습니다!\n",
    "\n",
    "먼저 이번 MRC대회 특성상 (Retrieval, Reader)두가지 데이터셋을 불러와야합니다. 먼저 Retrieval을 하기위한 데이터를 불러와볼까요?\n",
    "\n",
    "Retrieval을 위한 데이터는 ./data/wikipedia_documents.json파일에 저장되어 있어요"
   ]
  },
  {
   "cell_type": "markdown",
   "metadata": {},
   "source": [
    "## 1. Retrieval를 이해해보자!"
   ]
  },
  {
   "cell_type": "code",
   "execution_count": 2,
   "metadata": {},
   "outputs": [],
   "source": [
    "data_path  = \"../data/\"\n",
    "context_path = \"wikipedia_documents.json\""
   ]
  },
  {
   "cell_type": "code",
   "execution_count": 3,
   "metadata": {},
   "outputs": [
    {
     "name": "stdout",
     "output_type": "stream",
     "text": [
      "context len : 56737\n"
     ]
    }
   ],
   "source": [
    "with open(os.path.join(data_path, context_path), \"r\", encoding=\"utf-8\") as f:\n",
    "    wiki = json.load(f)\n",
    "\n",
    "contexts = list(dict.fromkeys([v[\"text\"] for v in wiki.values()]))\n",
    "print('context len :', len(contexts))"
   ]
  },
  {
   "cell_type": "markdown",
   "metadata": {},
   "source": [
    "wikipedia_documents 파일에 56737개의 문서가 존재하네요! 베이스라인 코드에서는 이 문서들을  TfidfVectorizer를 활용해 Sparse Embedding 벡터를 생성하고 있어요. 특징을 보면 ngram을 1으로 설정하고 최대 벡터의 크기를 50000으로 정하고 있습니다."
   ]
  },
  {
   "cell_type": "code",
   "execution_count": 4,
   "metadata": {},
   "outputs": [],
   "source": [
    "from transformers import AutoTokenizer\n",
    "from sklearn.feature_extraction.text import TfidfVectorizer\n",
    "\n",
    "MODEL_NAME = \"klue/roberta-large\"\n",
    "tokenizer = AutoTokenizer.from_pretrained(MODEL_NAME, use_fast=False)\n",
    "\n",
    "tfidfv = TfidfVectorizer(tokenizer=tokenizer.tokenize, ngram_range=(1, 2))#, max_features=50000)\n",
    "p_embedding = tfidfv.fit_transform(contexts)"
   ]
  },
  {
   "cell_type": "markdown",
   "metadata": {},
   "source": [
    "p_embedding이 전체 문서에 대해 tf-idf를 계산한 벡터라고 생각하면 됩니다! \n",
    "동일한 데이터로 실행되는 tf-idf 벡터는 매번 같기때문에 베이스라인 코드에서는 pickle을 이용해 저장하고 불러와서 사용하고 있어요. (계산 실행시 4분정도 소요 됩니다..) 여기서는 직접 불러오서 데이터를 한번 봐볼게요."
   ]
  },
  {
   "cell_type": "code",
   "execution_count": 5,
   "metadata": {},
   "outputs": [
    {
     "name": "stdout",
     "output_type": "stream",
     "text": [
      "p_embedding.shape: (56737, 2671490)\n",
      "p_embedding[0] :   (0, 1914366)\t0.046048140877352636\n",
      "  (0, 626031)\t0.05457317393589705\n",
      "  (0, 1736794)\t0.05177959444586956\n",
      "  (0, 3501)\t0.06798013441937986\n",
      "  (0, 1377496)\t0.06518655492935237\n",
      "  (0, 1999)\t0.054823740267807584\n",
      "  (0, 818143)\t0.055928471426344606\n",
      "  (0, 2264524)\t0.034215671162068945\n",
      "  (0, 1545251)\t0.05742854590082715\n",
      "  (0, 1448658)\t0.045666239788656665\n",
      "  (0, 1064915)\t0.05563524356637273\n",
      "  (0, 643154)\t0.01317084402728801\n",
      "  (0, 937198)\t0.013489646225027976\n",
      "  (0, 1914365)\t0.0411486597747185\n",
      "  (0, 2516597)\t0.06578604719957859\n",
      "  (0, 731395)\t0.025409885573367194\n",
      "  (0, 1512191)\t0.06890014098036651\n",
      "  (0, 2626)\t0.074737866292332\n",
      "  (0, 1431448)\t0.07121837236548964\n",
      "  (0, 2552022)\t0.0775314457823595\n",
      "  (0, 7714)\t0.074737866292332\n",
      "  (0, 248072)\t0.057035211829880625\n",
      "  (0, 2334418)\t0.09603665565107818\n",
      "  (0, 1545455)\t0.04755883660857466\n",
      "  (0, 603237)\t0.03844805574969389\n",
      "  :\t:\n",
      "  (0, 937861)\t0.07218776747778817\n",
      "  (0, 1451746)\t0.1422802783123841\n",
      "  (0, 377960)\t0.016403636227667787\n",
      "  (0, 2634521)\t0.025842770529581897\n",
      "  (0, 1289263)\t0.05535398758564016\n",
      "  (0, 400697)\t0.03926192188335033\n",
      "  (0, 2334384)\t0.08966043193387072\n",
      "  (0, 1969385)\t0.10804303620546057\n",
      "  (0, 2366991)\t0.09060880052085722\n",
      "  (0, 184209)\t0.018505512986543664\n",
      "  (0, 2631359)\t0.051381228312441074\n",
      "  (0, 1266680)\t0.025898126036743133\n",
      "  (0, 733769)\t0.035588530765053736\n",
      "  (0, 146060)\t0.05538138333008436\n",
      "  (0, 1102284)\t0.052202415118951184\n",
      "  (0, 1922087)\t0.02203180754302724\n",
      "  (0, 2310434)\t0.020025444992005224\n",
      "  (0, 1037630)\t0.021665363687470744\n",
      "  (0, 436320)\t0.013029675197109292\n",
      "  (0, 752121)\t0.01518517614408911\n",
      "  (0, 1723444)\t0.18536820956505817\n",
      "  (0, 1448602)\t0.145572752296895\n",
      "  (0, 248070)\t0.06462904484245278\n",
      "  (0, 1736756)\t0.07122074373227621\n",
      "  (0, 2204950)\t0.041608753437009365\n"
     ]
    }
   ],
   "source": [
    "print('p_embedding.shape:', p_embedding.shape)\n",
    "print('p_embedding[0] :', p_embedding[0])"
   ]
  },
  {
   "cell_type": "code",
   "execution_count": 6,
   "metadata": {},
   "outputs": [
    {
     "data": {
      "text/plain": [
       "<1x2671490 sparse matrix of type '<class 'numpy.float64'>'\n",
       "\twith 292 stored elements in Compressed Sparse Row format>"
      ]
     },
     "execution_count": 6,
     "metadata": {},
     "output_type": "execute_result"
    }
   ],
   "source": [
    "p_embedding[0]"
   ]
  },
  {
   "cell_type": "markdown",
   "metadata": {},
   "source": [
    "데이터에서 볼수 있듯이 전체 문서 56737개에 대한 벡터를 생성한걸 볼수 있고, 각 벡터는 최대 50000개의 feature벡터에 [0]번 벡터의 경우 207개 밖에 데이터가 없을정도로 Sparse한 벡터인걸 볼수 있어요."
   ]
  },
  {
   "cell_type": "markdown",
   "metadata": {},
   "source": [
    "간단히 Retrieval을 이해하기위해 베이스라인에서 쿼리를 가져와봤어요! 쿼리벡터와 나머지 문서 56737개에 대해 dot product를 계산하면 가장 유사한 문서를 찾아낼 수 있지 않을까요?"
   ]
  },
  {
   "cell_type": "code",
   "execution_count": 7,
   "metadata": {},
   "outputs": [
    {
     "data": {
      "text/plain": [
       "<1x2671490 sparse matrix of type '<class 'numpy.float64'>'\n",
       "\twith 29 stored elements in Compressed Sparse Row format>"
      ]
     },
     "execution_count": 7,
     "metadata": {},
     "output_type": "execute_result"
    }
   ],
   "source": [
    "query = \"대통령을 포함한 미국의 행정부 견제권을 갖는 국가 기관은?\"\n",
    "\n",
    "query_vec = tfidfv.transform([query])\n",
    "query_vec"
   ]
  },
  {
   "cell_type": "code",
   "execution_count": 8,
   "metadata": {},
   "outputs": [
    {
     "name": "stdout",
     "output_type": "stream",
     "text": [
      "result.shape:  (1, 56737)\n"
     ]
    }
   ],
   "source": [
    "result = query_vec * p_embedding.T\n",
    "result = result.toarray()\n",
    "print('result.shape: ', result.shape)"
   ]
  },
  {
   "cell_type": "markdown",
   "metadata": {},
   "source": [
    "dot product를 활용해 쿼리와 각 문서간의 similariry ranking벡터를 구했어요! 이 벡터를 높은순으로 정렬해볼까요!\n",
    "np.argsort함수를 활용해 유사도가 높은 문서의 index벡터를 만들어 볼게요"
   ]
  },
  {
   "cell_type": "code",
   "execution_count": 9,
   "metadata": {},
   "outputs": [
    {
     "data": {
      "text/plain": [
       "array([52322,   268,  1738, ..., 20668, 20669, 17830])"
      ]
     },
     "execution_count": 9,
     "metadata": {},
     "output_type": "execute_result"
    }
   ],
   "source": [
    "import numpy as np\n",
    "\n",
    "sorted_result = np.argsort(result.squeeze())[::-1]\n",
    "sorted_result"
   ]
  },
  {
   "cell_type": "markdown",
   "metadata": {},
   "source": [
    "52322번 문서가 가장 유사도가 높다고 하네요. 여기서 topk-3개까지 점수와 문서번호를 확인해볼게요!"
   ]
  },
  {
   "cell_type": "code",
   "execution_count": 31,
   "metadata": {},
   "outputs": [
    {
     "name": "stdout",
     "output_type": "stream",
     "text": [
      "doc_score:  [0.11559162970199424, 0.1055875701332796, 0.09925117835925082, 0.09818152707595829, 0.09084446858375946, 0.09008154188743288, 0.08822229918509907, 0.08768954593884028, 0.0861421106966819, 0.08015854973003503]\n",
      "doc_indices:  [52322, 268, 1738, 4879, 30647, 2269, 22749, 20097, 14489, 6795]\n"
     ]
    }
   ],
   "source": [
    "k=10\n",
    "doc_scores = result.squeeze()[sorted_result].tolist()[:k]\n",
    "doc_indices = sorted_result.tolist()[:k]\n",
    "print('doc_score: ',doc_scores)\n",
    "print('doc_indices: ', doc_indices)"
   ]
  },
  {
   "cell_type": "code",
   "execution_count": 32,
   "metadata": {},
   "outputs": [
    {
     "data": {
      "text/plain": [
       "['대통령',\n",
       " '##을',\n",
       " '포함',\n",
       " '##한',\n",
       " '미국',\n",
       " '##의',\n",
       " '행정부',\n",
       " '견제',\n",
       " '##권',\n",
       " '##을',\n",
       " '갖',\n",
       " '##는',\n",
       " '국가',\n",
       " '기관',\n",
       " '##은',\n",
       " '?']"
      ]
     },
     "execution_count": 32,
     "metadata": {},
     "output_type": "execute_result"
    }
   ],
   "source": [
    "tokenizer.tokenize(query)"
   ]
  },
  {
   "cell_type": "code",
   "execution_count": 33,
   "metadata": {},
   "outputs": [
    {
     "name": "stdout",
     "output_type": "stream",
     "text": [
      "query:  대통령을 포함한 미국의 행정부 견제권을 갖는 국가 기관은?\n",
      "Top-1 passage with score 0.115592\n",
      "국회에 관해 규정하는 헌법 제4장의 첫 조문이다.\n",
      "\n",
      "본조에서 말하는 \"국권\"이란 국가가 갖는 지배권을 포괄적으로 나타내는 국가 권력, 곧 국가의 통치권을 의미한다. 국권은 일반적으로 입법권·행정권·사법권의 3권으로 분류되지만, 그 중에서도 주권자인 국민의 의사를 직접 반영하는 기관으로서 국회를 \"최고 기관\"으로 규정한 것이다. 다만, 최고 기관이라 해서 타 기관의 감시와 통제를 받지 않는 것은 아니며 권력 분립 원칙에 따라 국회에 대한 행정권, 사법권의 견제를 받는다.\n",
      "\n",
      "또한 일본 전체 국민을 대표하는 기관을 국회로 규정함으로써, 국회는 일본의 유일한 입법 기관의 지위를 가지고 있다. 일본 제국 헌법 하에서 입법권은 천황의 권한에 속했으며, 제국의회는 천황의 입법 행위를 보좌하는 기관에 불과했다.\n",
      "\n",
      "여기서 \"유일한 입법 기관\"의 의미로는 다음과 같은 해석이 있다.\n",
      "* 국회 중심 입법 원칙 : 국회가 국가의 입법권을 독점한다는 원칙\n",
      "* 국회 단독 입법 원칙 : 국회의 입법은 다른 기관의 간섭 없이 이루어진다는 원칙\n",
      "\n",
      "또한 국회의 입법에 벗어나지 않는 범위 내에서 행정 기관은 정령 등의 규칙 제정권을 가지며(헌법 제73조 제6호), 최고재판소는 소송에 관한 절차, 변호사 및 재판소에 관한 내부 규율 및 사법 사무 처리에 관한 사항에 대한 규칙 제정권(헌법 제77조 제1항)을 가진다.\n",
      "Top-2 passage with score 0.105588\n",
      "수도(首都)는 한 국가의 정치, 행정의 중심이 되는 도시를 말한다. 수도에는 대부분 중앙정부가 소재해, 국가원수 등 국가의 최고 지도자가 거점으로 두는 도시이다. 다만 중앙 정부의 소재와는 별도로 그 나라의 상징적 존재로 인정되고 있는 도시가 수도로 여겨지기도 한다.\n",
      "\n",
      "국가에 따라서는 여러 개의 수도가 있기도 하며, 수도에 실제 행정부가 위치하지 않거나, 주요 국가 기관이 여러 도시에 나뉘어 위치하기도 한다. 예를 들어 남아프리카공화국의 행정부는 프리토리아에, 입법부는 케이프타운에, 사법부는 블룸폰테인에 있다. 네덜란드의 헌법은 암스테르담을 수도로서 명시하고 있으나, 실제 정부와 최고 법원은 헤이그에 위치해 있다.\n",
      "Top-3 passage with score 0.099251\n",
      "통일주체국민회의는 1972년 10월 17일 10월 유신으로 제4공화국이 출범하면서 헌법에 따라 구성된 간접민주주의 기관이다. 가장 중요한 기능은 유신헌법의 핵심인 대통령의 간접 선거 기능을 담당한 것이다. 1973년 8월부터 약칭은 국민회의로 정해졌다. 국민회의는 전국의 각 지역구에서 국민의 직접 선거로 선출된 대의원들로 구성되었는데, 통일주체국민회의 대의원들은 비공식적으로 통대라는 약칭으로 불리었다.\n",
      "\n",
      "유신헌법 제3장에 의하면 통일주체국민회의는 국가의 정상기관(頂上機關)이자 주권적 수임 기관으로서, 조국의 평화적 통일을 촉진하기 위한 국민의 총의가 모인 곳이다. 따라서 6년의 임기를 가진 이 기관의 대의원은 국민의 직접선거로 선출되며, 대통령을 선출하고 국회의원 정수의 3분의 1(유신정우회)을 선출하며, 국회의 헌법 개정안을 최종 의결하고 통일 정책을 심의하는 기능을 갖고 있다.\n",
      "\n",
      "신민당은 제9대 대통령 선거를 앞두고 정당이 대통령 후보를 지명하고, 대의원 선거에 출마하는 대의원 후보들은 지지하는 대통령 후보를 정하고 선거를 치르게 하는 미국의 대통령 선거인 선거 방식의 통일주체국민회의 대의원 선거법 개정안을 내기도 하였으나 이루어지지 않았다. \n",
      "\n",
      "사실상  박정희 대통령의 거수기 노릇을 하던 이 기관은 1979년 10월 26일 그가 암살되자 그 후임 대통령인 최규하와 전두환을 형식적으로 선출해주는 역할을 맡은 뒤, 이듬해 제5공화국 헌법 발효와 함께 해체되었다. 그 후 대통령간선제를 담당하는 기관은 대통령 선거인단으로 교체되었으며, 사무처와 인적구성 및 대통령 직속 통일 관련 기구로써의 역할은 '평화통일정책자문회의'를 거쳐 민주평화통일자문회의로 이어지고 있다.\n",
      "Top-4 passage with score 0.098182\n",
      "통일주체국민회의는 1972년 10월 17일 10월 유신으로 제4공화국이 출범하면서 헌법에 따라 구성된 간접민주주의 기관이다. 가장 중요한 기능은 유신헌법의 핵심인 대통령의 간접 선거 기능을 담당한 것이다. 1973년 8월부터 약칭은 국민회의로 정해졌다. 국민회의는 전국의 각 지역구에서 국민의 직접 선거로 선출된 대의원들로 구성되었는데, 통일주체국민회의 대의원들은 비공식적으로 통대라는 약칭으로 불리었다.\\n\\n유신헌법 제3장에 의하면 통일주체국민회의는 국가의 정상기관(頂上機關)이자 주권적 수임 기관으로서, 조국의 평화적 통일을 촉진하기 위한 국민의 총의가 모인 곳이다. 따라서 6년의 임기를 가진 이 기관의 대의원은 국민의 직접선거로 선출되며, 대통령을 선출하고 국회의원 정수의 3분의 1(유신정우회)을 선출하며, 국회의 헌법 개정안을 최종 의결하고 통일 정책을 심의하는 기능을 갖고 있다.\\n\\n신민당은 제9대 대통령 선거를 앞두고 정당이 대통령 후보를 지명하고, 대의원 선거에 출마하는 대의원 후보들은 지지하는 대통령 후보를 정하고 선거를 치르게 하는 미국의 대통령 선거인 선거 방식의 통일주체국민회의 대의원 선거법 개정안을 내기도 하였으나 이루어지지 않았다. \\n\\n사실상 박정희 대통령의 거수기 노릇을 하던 이 기관은 1979년 10월 26일 그가 암살되자 그 후임 대통령인 최규하와 전두환을 형식적으로 선출해주는 역할을 맡은 뒤, 이듬해 제5공화국 헌법 발효와 함께 해체되었다. 그 후 대통령간선제를 담당하는 기관은 대통령 선거인단으로 교체되었으며, 사무처와 인적구성 및 대통령 직속 통일 관련 기구로써의 역할은 '평화통일정책자문회의'를 거쳐 민주평화통일자문회의로 이어지고 있다.\n",
      "Top-5 passage with score 0.090844\n",
      "이 조례는 중앙정부 직할의 북서부 영토의 행정부를 구성할 수 있도록 했다. 이것은 미국이 서부로 확장할 때 새로운 행정부를 구성하기 위한 규범이 되었다.\n",
      "\n",
      "북서부 영토의 행정부는 3년 임기의 준주 지사가 중앙 정부에 의해 임명되었다. 그 밖에도, 4년 임기의 준주 장관이 1명, 임기 제한이 없는 판사 3명이 선정되었다. 인구가 5천명을 초과하면 입법부를 만드는 것도 가능했다.\n",
      "\n",
      "1789년, 미국 의회는 작은 수정을 가했다. 즉, 중앙 정부를 대신, 미국 대통령은 미국 상원 의 권고와 동의에 따라 준주의 지사와 관리를 임명하거나, 경질할 수 있도록 했다. 또한 지사가 사망, 부재, 경질 또는 사직한 경우, 준주 장관이 지사의 직무를 대행하도록 했다.\n",
      "Top-6 passage with score 0.090082\n",
      "이하의 국가들은 의회에서 행정부 수반을 선출한다는 점에서 내각제와 닮았다. 그리고 이들 국가들 중 상당수는 행정부 수반이 의회해산권을 갖고, 의회는 내각불신임권을 갖는데 이점 역시 내각제와 닮았다. 하지만 내각제와 달리 의회에서 선출되는 자는 행정부 수반의 지위 뿐만 아니라 국가 원수의 지위도 가진다. 그래서 의회에서 선출되는 자의 직위는 총리가 아니라, 대통령이다. 이처럼 1인이 행정부 수반과 국가 원수의 지위를 겸한다는 점에서 대통령중심제와 닮았다. 이상과 같은 이유로 이들 국가들의 정부 형태는 대통령제와 내각제의 절충형이지만, 행정 권한이 2인에게로 분리되어 있지 않으므로 이원집정부제는 아니다.\n",
      "\n",
      " \n",
      "* 나우루\n",
      "* 남아프리카 공화국\n",
      "* 마셜 제도\n",
      "* 마카오\n",
      "* 미얀마\n",
      "* 미크로네시아 연방\n",
      "* 보츠와나\n",
      "* 산마리노\n",
      "* 수리남\n",
      "* 키리바시\n",
      "* 홍콩\n",
      "Top-7 passage with score 0.088222\n",
      "미국의 대통령 가족(First Family of the United States)은 미국의 국가 원수이자 정부 수반인 미국의 대통령 가족을 일컫는 비공식적인 명칭이다. 대통령 가족은 대통령과 미국의 대통령 부인, 그리고 그들의 자녀들로 구성된다. 그러나, 대통령과 대통령 부인의 가까운 친척들인 부모, 손자, 의붓자식 등이 백악관 단지의 대통령 관저에 거주할 경우에는 그들도 대통령 가족에 포함될 수 있다.\n",
      "\n",
      "미국에서 대중 매체나 특히, 백악관 기자단에서 가장 자주 사용하는 \"대통령 가족\"(First Family)이라는 용어는 일반적으로 대통령의 직계 가족을 가리키는 말이다. 개별적으로, 대통령 가족의 각 구성원은 미국 비밀 경호국에서 비밀 경호 코드네임으로 지정된다. 특수 요원들이 사용하는 이러한 코드네임은 간결성, 명확성, 전통 등을 위할 뿐만 아니라 대통령 가족의 지속적인 보호를 위해 특별하게 식별된다.\n",
      "\n",
      "수 대에 걸쳐 대통령 가족을 배출한 가문은 미국의 명문 대통령 가문으로 불린다.\n",
      "Top-8 passage with score 0.087690\n",
      "미국의 외교정책의 수립과 이행에 대한 주된 책임을 대통령이 지게 되어 있으나, 의회도 이에 대해 강한 통제력을 발휘할 수 있다. 우선 의회는 전쟁을 선포할 수 있는 권한이 있다. 하원은 대통령의 외교정책 수행에 필요한 예산에 대해 강한 통제력을 가지고 있으며, 상원도 재원에 대한 통제가 가능하다. 특히 상원의 경우에는 고급 외무 관리의 임명에 대한 통제력을 가지고 있을 뿐만 아니라, 미국이 체결하는 모든 조약에 대한 비준권을 가지고 있다. 의회의 이와 같은 제재 권한은 행정부와 의회의 갈등을 초래하는 요소로 작용한다. 에드워드 코르윈(Edward Samuel Corwin) 교수는 미국의 정치체계가 외교정책에 있어서 행정부와 의회 간의 투쟁을 초래한다고 지적한 바 있다. 그 좋은 예로서는 상원이 국제연맹 헌장의 비준을 거부한 사실을 들 수 있다. 의회와 행정부간에는 긴밀한 협조가 이루어지고 있다. 유엔헌장 비준 당시의 의회와 행정부 간의 긴밀한 협조는 너무나 유명하다. 그러나 이러한 협동외교는 한국에서 흔히 사용되고 있는 '초당외교'라는 말과는 엄격히 구분되어야 한다. 베트남 전쟁으로 말미암아 파생된 행정부와 의회 간의 갈등은 심각한 형편이었다. 그러나 의회가 대통령에 가하는 압력은 행정부의 독주를 견제하는 동시에 건전한 방향의 미국 대외정책을 모색하고 있다. 의회는 국민의 대표기구로서 국민의 의사와 직결돼 있다. 따라서 대외정책의 수립이나 이행 과정에도 항상 의회를 '문제아'로 취급하거나, 또는 그러한 범주 내에 의회의 기능을 이해해서는 안 된다.\n",
      "Top-9 passage with score 0.086142\n",
      "미국 상의원 또는 미국 상원(United States Senate)은 양원제인 미국 의회의 상원이다.\\n\\n미국 부통령이 상원의장이 된다. 각 주당 2명의 상원의원이 선출되어 100명의 상원의원으로 구성되어 있다. 임기는 6년이며, 2년마다 50개주 중 1/3씩 상원의원을 새로 선출하여 연방에 보낸다.\\n\\n미국 상원은 미국 하원과는 다르게 미국 대통령을 수반으로 하는 미국 연방 행정부에 각종 동의를 하는 기관이다. 하원이 세금과 경제에 대한 권한, 대통령을 포함한 대다수의 공무원을 파면할 권한을 갖고 있는 국민을 대표하는 기관인 반면 상원은 미국의 주를 대표한다. 즉 캘리포니아주, 일리노이주 같이 주 정부와 주 의회를 대표하는 기관이다. 그로 인하여 군대의 파병, 관료의 임명에 대한 동의, 외국 조약에 대한 승인 등 신속을 요하는 권한은 모두 상원에게만 있다. 그리고 하원에 대한 견제 역할(하원의 법안을 거부할 권한 등)을 담당한다. 2년의 임기로 인하여 급진적일 수밖에 없는 하원은 지나치게 급진적인 법안을 만들기 쉽다. 대표적인 예로 건강보험 개혁 당시 하원이 미국 연방 행정부에게 퍼블릭 옵션(공공건강보험기관)의 조항이 있는 반면 상원의 경우 하원안이 지나치게 세금이 많이 든다는 이유로 퍼블릭 옵션 조항을 제외하고 비영리건강보험기관이나 보험회사가 담당하도록 한 것이다. 이 경우처럼 상원은 하원이나 내각책임제가 빠지기 쉬운 국가들의 국회처럼 걸핏하면 발생하는 의회의 비정상적인 사태를 방지하는 기관이다. 상원은 급박한 처리사항의 경우가 아니면 법안을 먼저 내는 경우가 드물고 하원이 만든 법안을 수정하여 다시 하원에 되돌려보낸다. 이러한 방식으로 단원제가 빠지기 쉬운 함정을 미리 방지하는 것이다.날짜=2017-02-05\n",
      "Top-10 passage with score 0.080159\n",
      "내각(內閣, cabinet)은 행정부의 주요 각료들로 구성되는 국가의 주요기관이다.\n",
      "\n",
      "의원내각제에서 내각은 수상과 여러 장관으로 조직되는 합의체로, 국가의 행정권을 담당하고 국회에 대한 연대책임을 갖는다. 의원내각제에 있어서 내각은 국가행정의 최고기관인 한편 국민이 구성시키는 의회에 의하여 철저히 견제되어 의회민주주의 체제를 이룬다.\n",
      "\n",
      "그 직접적 유래는 영국에서 국왕의 정치를 자문하던 추밀원에서 찾을 수 있다. 특히 내각은 추밀원의 일개 회의에서 시작하였다가 권한이 집중되어 분리된 기관으로, 이후 국왕의 실권이 사라지고 일명 웨스트민스터 시스템으로 불리는 의원내각제가 성립하면서 의회에 의한 민주적 행정부를 이루게 되었다.\n",
      "\n",
      "한편 국가원수에게 대부분의 권력이 집중되는 대통령중심제와 군주제에서 내각은 원칙적으로 의결권이 없거나 의결의 구속력이 없는 보좌기관에 불과한 경우가 많다.(예: 대한민국의 국무회의)\n",
      "\n",
      "대한민국은 국무회의가 내각에 속하며 권한이 대통령에 비해 제한적이다. 과거 왕조시대 때는 고려시대의 중서문하성, 중추원, 육부 또는 조선시대의 의정부와 육조가 내각과 비슷한 성향을 지니고 있었다.\n"
     ]
    }
   ],
   "source": [
    "print('query: ',query)\n",
    "\n",
    "for i in range(k):\n",
    "    print(f\"Top-{i+1} passage with score {doc_scores[i]:4f}\")\n",
    "    print(contexts[doc_indices[i]])\n",
    "    \n",
    "#print(doc_scores, [contexts[doc_indices[i]] for i in range(k)])"
   ]
  },
  {
   "cell_type": "markdown",
   "metadata": {},
   "source": [
    "나름 유사해보는 passage를 찾았지만 아쉽게도 학습데이터에서 주어진 passage를 찾지 못했어요. Dense Retrieval 을 적용해본다면 좋을 결과를 나오게 할수도 있을거 같아요! 실제 주어진 passage는 아래에서 MRC데이터를 뜯어보며 확인해봐요!"
   ]
  },
  {
   "cell_type": "markdown",
   "metadata": {},
   "source": [
    "## 2. MRC 데이터셋 뜯어보기"
   ]
  },
  {
   "cell_type": "markdown",
   "id": "8ee72eaf-8a0d-458b-9d74-cbcecb070d1b",
   "metadata": {},
   "source": [
    "### 1. 데이터 살펴보기\n",
    "\n",
    "지난번처럼 *.json 형태와 달리 *.arrow라는 데이터형태로 제공되어지는데요. 그래서 직접열기가 불가능합니다. \n",
    "이번 베이스라인 코드에서는 Datasets라는 허깅페이스내의 함수를 활용해 데이터를 불러옵니다. 일단은 여는 방법에 대해 알아봐요!"
   ]
  },
  {
   "cell_type": "code",
   "execution_count": 14,
   "id": "6e393807-98de-4418-85e6-5cf1886081e7",
   "metadata": {},
   "outputs": [
    {
     "name": "stdout",
     "output_type": "stream",
     "text": [
      "DatasetDict({\n",
      "    train: Dataset({\n",
      "        features: ['__index_level_0__', 'answers', 'context', 'document_id', 'id', 'question', 'title'],\n",
      "        num_rows: 3952\n",
      "    })\n",
      "    validation: Dataset({\n",
      "        features: ['__index_level_0__', 'answers', 'context', 'document_id', 'id', 'question', 'title'],\n",
      "        num_rows: 240\n",
      "    })\n",
      "})\n"
     ]
    }
   ],
   "source": [
    "from datasets import load_from_disk\n",
    "data = load_from_disk('../data/train_dataset')\n",
    "print(data)"
   ]
  },
  {
   "cell_type": "markdown",
   "id": "f40822bd-463a-4eb9-a913-7bae70fba9cc",
   "metadata": {},
   "source": [
    "datasets내에 load_from_disk함수를 활용해서 데이터셋을 열어볼수 있는데요. 데이터셋을 살펴보면 3952개의 학습데이터셋과 240개의 검증 데이터셋으로 이루어져있는 것을 확인할 수 있습니다."
   ]
  },
  {
   "cell_type": "code",
   "execution_count": 15,
   "id": "335f3026-adf0-4673-9cdd-0ea2e01b6e80",
   "metadata": {},
   "outputs": [
    {
     "name": "stdout",
     "output_type": "stream",
     "text": [
      "data.shape:  {'train': (3952, 7), 'validation': (240, 7)}\n",
      "data.column_names:  {'train': ['title', 'context', 'question', 'id', 'answers', 'document_id', '__index_level_0__'], 'validation': ['title', 'context', 'question', 'id', 'answers', 'document_id', '__index_level_0__']}\n"
     ]
    }
   ],
   "source": [
    "print('data.shape: ', data.shape)\n",
    "print('data.column_names: ', data.column_names)"
   ]
  },
  {
   "cell_type": "code",
   "execution_count": 16,
   "id": "cd264ba3-f14b-429a-b268-8ba045856ce4",
   "metadata": {},
   "outputs": [
    {
     "data": {
      "text/plain": [
       "{'title': '미국 상원',\n",
       " 'context': '미국 상의원 또는 미국 상원(United States Senate)은 양원제인 미국 의회의 상원이다.\\\\n\\\\n미국 부통령이 상원의장이 된다. 각 주당 2명의 상원의원이 선출되어 100명의 상원의원으로 구성되어 있다. 임기는 6년이며, 2년마다 50개주 중 1/3씩 상원의원을 새로 선출하여 연방에 보낸다.\\\\n\\\\n미국 상원은 미국 하원과는 다르게 미국 대통령을 수반으로 하는 미국 연방 행정부에 각종 동의를 하는 기관이다. 하원이 세금과 경제에 대한 권한, 대통령을 포함한 대다수의 공무원을 파면할 권한을 갖고 있는 국민을 대표하는 기관인 반면 상원은 미국의 주를 대표한다. 즉 캘리포니아주, 일리노이주 같이 주 정부와 주 의회를 대표하는 기관이다. 그로 인하여 군대의 파병, 관료의 임명에 대한 동의, 외국 조약에 대한 승인 등 신속을 요하는 권한은 모두 상원에게만 있다. 그리고 하원에 대한 견제 역할(하원의 법안을 거부할 권한 등)을 담당한다. 2년의 임기로 인하여 급진적일 수밖에 없는 하원은 지나치게 급진적인 법안을 만들기 쉽다. 대표적인 예로 건강보험 개혁 당시 하원이 미국 연방 행정부에게 퍼블릭 옵션(공공건강보험기관)의 조항이 있는 반면 상원의 경우 하원안이 지나치게 세금이 많이 든다는 이유로 퍼블릭 옵션 조항을 제외하고 비영리건강보험기관이나 보험회사가 담당하도록 한 것이다. 이 경우처럼 상원은 하원이나 내각책임제가 빠지기 쉬운 국가들의 국회처럼 걸핏하면 발생하는 의회의 비정상적인 사태를 방지하는 기관이다. 상원은 급박한 처리사항의 경우가 아니면 법안을 먼저 내는 경우가 드물고 하원이 만든 법안을 수정하여 다시 하원에 되돌려보낸다. 이러한 방식으로 단원제가 빠지기 쉬운 함정을 미리 방지하는 것이다.날짜=2017-02-05',\n",
       " 'question': '대통령을 포함한 미국의 행정부 견제권을 갖는 국가 기관은?',\n",
       " 'id': 'mrc-1-000067',\n",
       " 'answers': {'answer_start': [235], 'text': ['하원']},\n",
       " 'document_id': 18293,\n",
       " '__index_level_0__': 42}"
      ]
     },
     "execution_count": 16,
     "metadata": {},
     "output_type": "execute_result"
    }
   ],
   "source": [
    "data['train'][0]"
   ]
  },
  {
   "cell_type": "markdown",
   "metadata": {},
   "source": [
    "이렇게 *.arrow 데이터를 불러올수 있습니다. Retrieval에서 찾았던 문서와 다른것을 확인할수 있어요.. 이런상황이면 아무리 MRC모델이 성능이 좋다고 하더라도 Retrieval에서 엉뚱한 문서를 전달해준다면 답을 찾을 수 없을거에요.."
   ]
  },
  {
   "cell_type": "code",
   "execution_count": 17,
   "id": "d39f7fba-4091-4226-9cf8-0a5ae122cda3",
   "metadata": {},
   "outputs": [
    {
     "name": "stdout",
     "output_type": "stream",
     "text": [
      "{'train': [{'filename': '../data/train_dataset/train/dataset.arrow'}], 'validation': [{'filename': '../data/train_dataset/validation/dataset.arrow'}]}\n"
     ]
    }
   ],
   "source": [
    "print(data.cache_files)"
   ]
  },
  {
   "cell_type": "markdown",
   "id": "ba92dd3c-6e84-40e9-8d8c-9596031ce43a",
   "metadata": {},
   "source": [
    "datasets는 cache라는 기능을 제공해 처리속도를 빠르게 올릴 수 있습니다. 대회라고 가정하고 EDA를 진행해보겠습니다."
   ]
  },
  {
   "cell_type": "code",
   "execution_count": 18,
   "id": "6c1414fc-1e56-4c7d-8d1d-a5f41081608c",
   "metadata": {},
   "outputs": [],
   "source": [
    "from transformers import AutoTokenizer\n",
    "\n",
    "MODEL_NAME = \"klue/roberta-large\"\n",
    "tokenizer = AutoTokenizer.from_pretrained(MODEL_NAME)"
   ]
  },
  {
   "cell_type": "code",
   "execution_count": 19,
   "id": "62d91670-b0a5-4d80-9a40-f7c6f4e8b375",
   "metadata": {},
   "outputs": [],
   "source": [
    "def get_tokenized_sentences(data):\n",
    "    tokenized_sentences = tokenizer(\n",
    "        data, \n",
    "        padding=True, \n",
    "        truncation=True, \n",
    "        max_length=512, \n",
    "        add_special_tokens=True,\n",
    "        return_token_type_ids=False,\n",
    "        )\n",
    "    return tokenized_sentences"
   ]
  },
  {
   "cell_type": "markdown",
   "metadata": {},
   "source": [
    "get_tokenized_sentences(squad[\"validation\"][\"context\"])"
   ]
  },
  {
   "cell_type": "code",
   "execution_count": 20,
   "metadata": {},
   "outputs": [
    {
     "data": {
      "text/plain": [
       "{'title': '미국 상원',\n",
       " 'context': '미국 상의원 또는 미국 상원(United States Senate)은 양원제인 미국 의회의 상원이다.\\\\n\\\\n미국 부통령이 상원의장이 된다. 각 주당 2명의 상원의원이 선출되어 100명의 상원의원으로 구성되어 있다. 임기는 6년이며, 2년마다 50개주 중 1/3씩 상원의원을 새로 선출하여 연방에 보낸다.\\\\n\\\\n미국 상원은 미국 하원과는 다르게 미국 대통령을 수반으로 하는 미국 연방 행정부에 각종 동의를 하는 기관이다. 하원이 세금과 경제에 대한 권한, 대통령을 포함한 대다수의 공무원을 파면할 권한을 갖고 있는 국민을 대표하는 기관인 반면 상원은 미국의 주를 대표한다. 즉 캘리포니아주, 일리노이주 같이 주 정부와 주 의회를 대표하는 기관이다. 그로 인하여 군대의 파병, 관료의 임명에 대한 동의, 외국 조약에 대한 승인 등 신속을 요하는 권한은 모두 상원에게만 있다. 그리고 하원에 대한 견제 역할(하원의 법안을 거부할 권한 등)을 담당한다. 2년의 임기로 인하여 급진적일 수밖에 없는 하원은 지나치게 급진적인 법안을 만들기 쉽다. 대표적인 예로 건강보험 개혁 당시 하원이 미국 연방 행정부에게 퍼블릭 옵션(공공건강보험기관)의 조항이 있는 반면 상원의 경우 하원안이 지나치게 세금이 많이 든다는 이유로 퍼블릭 옵션 조항을 제외하고 비영리건강보험기관이나 보험회사가 담당하도록 한 것이다. 이 경우처럼 상원은 하원이나 내각책임제가 빠지기 쉬운 국가들의 국회처럼 걸핏하면 발생하는 의회의 비정상적인 사태를 방지하는 기관이다. 상원은 급박한 처리사항의 경우가 아니면 법안을 먼저 내는 경우가 드물고 하원이 만든 법안을 수정하여 다시 하원에 되돌려보낸다. 이러한 방식으로 단원제가 빠지기 쉬운 함정을 미리 방지하는 것이다.날짜=2017-02-05',\n",
       " 'question': '대통령을 포함한 미국의 행정부 견제권을 갖는 국가 기관은?',\n",
       " 'id': 'mrc-1-000067',\n",
       " 'answers': {'answer_start': [235], 'text': ['하원']},\n",
       " 'document_id': 18293,\n",
       " '__index_level_0__': 42}"
      ]
     },
     "execution_count": 20,
     "metadata": {},
     "output_type": "execute_result"
    }
   ],
   "source": [
    "data[\"train\"][0]"
   ]
  },
  {
   "cell_type": "code",
   "execution_count": 21,
   "metadata": {},
   "outputs": [],
   "source": [
    "encode_tokenizer = tokenizer.encode(data[\"train\"][\"context\"][0])"
   ]
  },
  {
   "cell_type": "code",
   "execution_count": null,
   "metadata": {},
   "outputs": [],
   "source": [
    "encode_tokenizer"
   ]
  },
  {
   "cell_type": "code",
   "execution_count": 22,
   "metadata": {},
   "outputs": [
    {
     "data": {
      "text/plain": [
       "'[CLS] 미국 상의원 또는 미국 상원 ( United States Senate ) 은 양원제인 미국 의회의 상원이다. [UNK] n [UNK] n미국 부통령이 상원의장이 된다. 각 주당 2명의 상원의원이 선출되어 100명의 상원의원으로 구성되어 있다. 임기는 6년이며, 2년마다 50개주 중 1 / 3씩 상원의원을 새로 선출하여 연방에 보낸다. [UNK] n [UNK] n미국 상원은 미국 하원과는 다르게 미국 대통령을 수반으로 하는 미국 연방 행정부에 각종 동의를 하는 기관이다. 하원이 세금과 경제에 대한 권한, 대통령을 포함한 대다수의 공무원을 파면할 권한을 갖고 있는 국민을 대표하는 기관인 반면 상원은 미국의 주를 대표한다. 즉 캘리포니아주, 일리노이주 같이 주 정부와 주 의회를 대표하는 기관이다. 그로 인하여 군대의 파병, 관료의 임명에 대한 동의, 외국 조약에 대한 승인 등 신속을 요하는 권한은 모두 상원에게만 있다. 그리고 하원에 대한 견제 역할 ( 하원의 법안을 거부할 권한 등 ) 을 담당한다. 2년의 임기로 인하여 급진적일 수밖에 없는 하원은 지나치게 급진적인 법안을 만들기 쉽다. 대표적인 예로 건강보험 개혁 당시 하원이 미국 연방 행정부에게 퍼블릭 옵션 ( 공공건강보험기관 ) 의 조항이 있는 반면 상원의 경우 하원안이 지나치게 세금이 많이 든다는 이유로 퍼블릭 옵션 조항을 제외하고 비영리건강보험기관이나 보험회사가 담당하도록 한 것이다. 이 경우처럼 상원은 하원이나 내각책임제가 빠지기 쉬운 국가들의 국회처럼 걸핏하면 발생하는 의회의 비정상적인 사태를 방지하는 기관이다. 상원은 급박한 처리사항의 경우가 아니면 법안을 먼저 내는 경우가 드물고 하원이 만든 법안을 수정하여 다시 하원에 되돌려보낸다. 이러한 방식으로 단원제가 빠지기 쉬운 함정을 미리 방지하는 것이다. 날짜 = 2017 - 02 - 05 [SEP]'"
      ]
     },
     "execution_count": 22,
     "metadata": {},
     "output_type": "execute_result"
    }
   ],
   "source": [
    "tokenizer.decode(encode_tokenizer)"
   ]
  },
  {
   "cell_type": "code",
   "execution_count": null,
   "metadata": {},
   "outputs": [],
   "source": []
  }
 ],
 "metadata": {
  "interpreter": {
   "hash": "d4d1e4263499bec80672ea0156c357c1ee493ec2b1c70f0acce89fc37c4a6abe"
  },
  "kernelspec": {
   "display_name": "Python 3.8.5 64-bit ('base': conda)",
   "name": "python3"
  },
  "language_info": {
   "codemirror_mode": {
    "name": "ipython",
    "version": 3
   },
   "file_extension": ".py",
   "mimetype": "text/x-python",
   "name": "python",
   "nbconvert_exporter": "python",
   "pygments_lexer": "ipython3",
   "version": "3.8.5"
  }
 },
 "nbformat": 4,
 "nbformat_minor": 5
}
