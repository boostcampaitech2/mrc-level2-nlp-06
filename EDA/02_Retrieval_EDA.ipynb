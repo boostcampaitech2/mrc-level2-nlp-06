{
 "cells": [
  {
   "cell_type": "markdown",
   "id": "280e1171-2bfb-4a1e-a5c1-343c7c7a7c1b",
   "metadata": {},
   "source": [
    "# 학습 데이터 불러오는 과정 훑어보기"
   ]
  },
  {
   "cell_type": "code",
   "execution_count": null,
   "id": "4bbe1dc3",
   "metadata": {},
   "outputs": [],
   "source": [
    "import os\n",
    "import json"
   ]
  },
  {
   "cell_type": "markdown",
   "id": "2bfe9de3-bc7e-4c49-87ab-6265a366bd4a",
   "metadata": {},
   "source": [
    "베이스라인 코드를 이해하는데 어려움이 있으신 캠퍼분들이 있을거 같아 주말동안 이해해 본 학습 데이터를 불러오는 과정을 한번 정리해봤습니다!\n",
    "\n",
    "먼저 이번 MRC대회 특성상 (Retrieval, Reader)두가지 데이터셋을 불러와야합니다. 먼저 Retrieval을 하기위한 데이터를 불러와볼까요?\n",
    "\n",
    "Retrieval을 위한 데이터는 ./data/wikipedia_documents.json파일에 저장되어 있어요"
   ]
  },
  {
   "cell_type": "markdown",
   "id": "0083d013",
   "metadata": {},
   "source": [
    "## 1. Retrieval를 이해해보자!"
   ]
  },
  {
   "cell_type": "code",
   "execution_count": null,
   "id": "e20baab3",
   "metadata": {},
   "outputs": [],
   "source": [
    "data_path  = \"../../data/\"\n",
    "context_path = \"wikipedia_documents.json\""
   ]
  },
  {
   "cell_type": "code",
   "execution_count": null,
   "id": "06911daf",
   "metadata": {},
   "outputs": [],
   "source": [
    "with open(os.path.join(data_path, context_path), \"r\", encoding=\"utf-8\") as f:\n",
    "    wiki = json.load(f)\n",
    "\n",
    "contexts = list(dict.fromkeys([v[\"text\"] for v in wiki.values()]))\n",
    "print('context len :', len(contexts))"
   ]
  },
  {
   "cell_type": "markdown",
   "id": "7b784e22",
   "metadata": {},
   "source": [
    "wikipedia_documents 파일에 56737개의 문서가 존재하네요! 베이스라인 코드에서는 이 문서들을  TfidfVectorizer를 활용해 Sparse Embedding 벡터를 생성하고 있어요. 특징을 보면 ngram을 1으로 설정하고 최대 벡터의 크기를 50000으로 정하고 있습니다."
   ]
  },
  {
   "cell_type": "code",
   "execution_count": null,
   "id": "e3fe92a5",
   "metadata": {},
   "outputs": [],
   "source": [
    "from transformers import AutoTokenizer\n",
    "from sklearn.feature_extraction.text import TfidfVectorizer\n",
    "\n",
    "MODEL_NAME = \"klue/roberta-large\"\n",
    "tokenizer = AutoTokenizer.from_pretrained(MODEL_NAME, use_fast=False)\n",
    "\n",
    "tfidfv = TfidfVectorizer(tokenizer=tokenizer.tokenize, ngram_range=(1, 2))#, max_features=50000)\n",
    "p_embedding = tfidfv.fit_transform(contexts)"
   ]
  },
  {
   "cell_type": "markdown",
   "id": "26321fd9",
   "metadata": {},
   "source": [
    "p_embedding이 전체 문서에 대해 tf-idf를 계산한 벡터라고 생각하면 됩니다! \n",
    "동일한 데이터로 실행되는 tf-idf 벡터는 매번 같기때문에 베이스라인 코드에서는 pickle을 이용해 저장하고 불러와서 사용하고 있어요. (계산 실행시 4분정도 소요 됩니다..) 여기서는 직접 불러오서 데이터를 한번 봐볼게요."
   ]
  },
  {
   "cell_type": "code",
   "execution_count": null,
   "id": "c0b54271",
   "metadata": {},
   "outputs": [],
   "source": [
    "print('p_embedding.shape:', p_embedding.shape)\n",
    "print('p_embedding[0] :', p_embedding[0])"
   ]
  },
  {
   "cell_type": "code",
   "execution_count": null,
   "id": "9b995bf9",
   "metadata": {},
   "outputs": [],
   "source": [
    "p_embedding[0]"
   ]
  },
  {
   "cell_type": "markdown",
   "id": "d42d0c36",
   "metadata": {},
   "source": [
    "데이터에서 볼수 있듯이 전체 문서 56737개에 대한 벡터를 생성한걸 볼수 있고, 각 벡터는 최대 50000개의 feature벡터에 [0]번 벡터의 경우 207개 밖에 데이터가 없을정도로 Sparse한 벡터인걸 볼수 있어요."
   ]
  },
  {
   "cell_type": "markdown",
   "id": "662f6de6",
   "metadata": {},
   "source": [
    "간단히 Retrieval을 이해하기위해 베이스라인에서 쿼리를 가져와봤어요! 쿼리벡터와 나머지 문서 56737개에 대해 dot product를 계산하면 가장 유사한 문서를 찾아낼 수 있지 않을까요?"
   ]
  },
  {
   "cell_type": "code",
   "execution_count": null,
   "id": "2830ef4b",
   "metadata": {},
   "outputs": [],
   "source": [
    "query = \"대통령을 포함한 미국의 행정부 견제권을 갖는 국가 기관은?\"\n",
    "\n",
    "query_vec = tfidfv.transform([query])\n",
    "query_vec"
   ]
  },
  {
   "cell_type": "code",
   "execution_count": null,
   "id": "3a981506",
   "metadata": {},
   "outputs": [],
   "source": [
    "result = query_vec * p_embedding.T\n",
    "result = result.toarray()\n",
    "print('result.shape: ', result.shape)"
   ]
  },
  {
   "cell_type": "markdown",
   "id": "01641748",
   "metadata": {},
   "source": [
    "dot product를 활용해 쿼리와 각 문서간의 similariry ranking벡터를 구했어요! 이 벡터를 높은순으로 정렬해볼까요!\n",
    "np.argsort함수를 활용해 유사도가 높은 문서의 index벡터를 만들어 볼게요"
   ]
  },
  {
   "cell_type": "code",
   "execution_count": null,
   "id": "50ff1726",
   "metadata": {},
   "outputs": [],
   "source": [
    "import numpy as np\n",
    "\n",
    "sorted_result = np.argsort(result.squeeze())[::-1]\n",
    "sorted_result"
   ]
  },
  {
   "cell_type": "markdown",
   "id": "2d24c9ed",
   "metadata": {},
   "source": [
    "52322번 문서가 가장 유사도가 높다고 하네요. 여기서 topk-3개까지 점수와 문서번호를 확인해볼게요!"
   ]
  },
  {
   "cell_type": "code",
   "execution_count": null,
   "id": "49dae320",
   "metadata": {},
   "outputs": [],
   "source": [
    "k=10\n",
    "doc_scores = result.squeeze()[sorted_result].tolist()[:k]\n",
    "doc_indices = sorted_result.tolist()[:k]\n",
    "print('doc_score: ',doc_scores)\n",
    "print('doc_indices: ', doc_indices)"
   ]
  },
  {
   "cell_type": "code",
   "execution_count": null,
   "id": "62f8c80f",
   "metadata": {},
   "outputs": [],
   "source": [
    "tokenizer.tokenize(query)"
   ]
  },
  {
   "cell_type": "code",
   "execution_count": null,
   "id": "ff4b436d",
   "metadata": {},
   "outputs": [],
   "source": [
    "print('query: ',query)\n",
    "\n",
    "for i in range(k):\n",
    "    print(f\"Top-{i+1} passage with score {doc_scores[i]:4f}\")\n",
    "    print(contexts[doc_indices[i]])\n"
   ]
  },
  {
   "cell_type": "markdown",
   "id": "eb6ea717",
   "metadata": {},
   "source": [
    "나름 유사해보는 passage를 찾았지만 아쉽게도 학습데이터에서 주어진 passage를 찾지 못했어요. Dense Retrieval 을 적용해본다면 좋을 결과를 나오게 할수도 있을거 같아요! 실제 주어진 passage는 아래에서 MRC데이터를 뜯어보며 확인해봐요!"
   ]
  },
  {
   "cell_type": "markdown",
   "id": "339d50ed",
   "metadata": {},
   "source": [
    "## 2. MRC 데이터셋 뜯어보기"
   ]
  },
  {
   "cell_type": "code",
   "execution_count": null,
   "id": "6e393807-98de-4418-85e6-5cf1886081e7",
   "metadata": {},
   "outputs": [],
   "source": [
    "from datasets import load_from_disk\n",
    "data = load_from_disk('../../data/train_dataset')"
   ]
  },
  {
   "cell_type": "code",
   "execution_count": null,
   "id": "e15b83fb",
   "metadata": {},
   "outputs": [],
   "source": [
    "data['train']"
   ]
  },
  {
   "cell_type": "code",
   "execution_count": null,
   "id": "cd264ba3-f14b-429a-b268-8ba045856ce4",
   "metadata": {},
   "outputs": [],
   "source": [
    "data['train'][0]['question']"
   ]
  },
  {
   "cell_type": "code",
   "execution_count": null,
   "id": "105a7f02",
   "metadata": {},
   "outputs": [],
   "source": [
    "data['train'][0]['document_id']"
   ]
  },
  {
   "cell_type": "code",
   "execution_count": null,
   "id": "764c0e6b",
   "metadata": {},
   "outputs": [],
   "source": [
    "data['train'][0]"
   ]
  },
  {
   "cell_type": "code",
   "execution_count": null,
   "id": "2a57f68b",
   "metadata": {},
   "outputs": [],
   "source": [
    "np.array(contexts)[doc_indices]"
   ]
  },
  {
   "cell_type": "code",
   "execution_count": null,
   "id": "86574254",
   "metadata": {},
   "outputs": [],
   "source": [
    "contexts[doc_indices]"
   ]
  },
  {
   "cell_type": "code",
   "execution_count": 53,
   "id": "b49cdfd5",
   "metadata": {},
   "outputs": [],
   "source": [
    "def origin_topk(query_vec, k):\n",
    "    result = query_vec * p_embedding.T\n",
    "    result = result.toarray()\n",
    "    sorted_result = np.argsort(result.squeeze())[::-1]\n",
    "    \n",
    "    doc_scores = result.squeeze()[sorted_result].tolist()[:k]\n",
    "    doc_indices = sorted_result.tolist()[:k]\n",
    "    return doc_scores, doc_indices "
   ]
  },
  {
   "cell_type": "code",
   "execution_count": 76,
   "id": "0b899598",
   "metadata": {},
   "outputs": [],
   "source": [
    "def get_topk_similarity(qeury_vec, k):\n",
    "    result = query_vec * p_embedding.T\n",
    "    result = result.toarray()\n",
    "\n",
    "    doc_scores3 = np.partition(result, -k)[:, -k:][:, ::-1]\n",
    "    ind = np.argsort(doc_scores3, axis=-1)[:, ::-1]\n",
    "    doc_scores3 = np.sort(doc_scores3, axis=-1)[:, ::-1]\n",
    "    doc_indices3 = np.argpartition(result, -k)[:, -k:][:, ::-1]\n",
    "    r, c = ind.shape\n",
    "    ind = ind + np.tile(np.arange(r).reshape(-1, 1), (1, c)) * c\n",
    "    doc_indices3 = doc_indices3.ravel()[ind].reshape(r, c)\n",
    "\n",
    "    return doc_scores3, doc_indices3"
   ]
  },
  {
   "cell_type": "code",
   "execution_count": 81,
   "id": "a57bc953",
   "metadata": {},
   "outputs": [
    {
     "name": "stdout",
     "output_type": "stream",
     "text": [
      "[[52322   268  1738  4879 30647  2269 22749 20097 14489  6795 15321 38020\n",
      "  51907 52805 33053 20771 26618 24361 29710 20837]]\n",
      "18293\n"
     ]
    }
   ],
   "source": [
    "topk_loc = []\n",
    "for i in range(len(data['train'])):\n",
    "    query = data['train'][0]['question']\n",
    "    query_vec = tfidfv.transform([query])\n",
    "    \n",
    "    k=20\n",
    "    doc_scores, doc_indices = get_topk_similarity(query_vec, k)\n",
    "    print(doc_indices)\n",
    "    print(data['train']['document_id'][0])\n",
    "    break"
   ]
  },
  {
   "cell_type": "code",
   "execution_count": 85,
   "id": "9a832d32",
   "metadata": {},
   "outputs": [
    {
     "data": {
      "text/plain": [
       "{'title': '미국 상원',\n",
       " 'context': '미국 상의원 또는 미국 상원(United States Senate)은 양원제인 미국 의회의 상원이다.\\\\n\\\\n미국 부통령이 상원의장이 된다. 각 주당 2명의 상원의원이 선출되어 100명의 상원의원으로 구성되어 있다. 임기는 6년이며, 2년마다 50개주 중 1/3씩 상원의원을 새로 선출하여 연방에 보낸다.\\\\n\\\\n미국 상원은 미국 하원과는 다르게 미국 대통령을 수반으로 하는 미국 연방 행정부에 각종 동의를 하는 기관이다. 하원이 세금과 경제에 대한 권한, 대통령을 포함한 대다수의 공무원을 파면할 권한을 갖고 있는 국민을 대표하는 기관인 반면 상원은 미국의 주를 대표한다. 즉 캘리포니아주, 일리노이주 같이 주 정부와 주 의회를 대표하는 기관이다. 그로 인하여 군대의 파병, 관료의 임명에 대한 동의, 외국 조약에 대한 승인 등 신속을 요하는 권한은 모두 상원에게만 있다. 그리고 하원에 대한 견제 역할(하원의 법안을 거부할 권한 등)을 담당한다. 2년의 임기로 인하여 급진적일 수밖에 없는 하원은 지나치게 급진적인 법안을 만들기 쉽다. 대표적인 예로 건강보험 개혁 당시 하원이 미국 연방 행정부에게 퍼블릭 옵션(공공건강보험기관)의 조항이 있는 반면 상원의 경우 하원안이 지나치게 세금이 많이 든다는 이유로 퍼블릭 옵션 조항을 제외하고 비영리건강보험기관이나 보험회사가 담당하도록 한 것이다. 이 경우처럼 상원은 하원이나 내각책임제가 빠지기 쉬운 국가들의 국회처럼 걸핏하면 발생하는 의회의 비정상적인 사태를 방지하는 기관이다. 상원은 급박한 처리사항의 경우가 아니면 법안을 먼저 내는 경우가 드물고 하원이 만든 법안을 수정하여 다시 하원에 되돌려보낸다. 이러한 방식으로 단원제가 빠지기 쉬운 함정을 미리 방지하는 것이다.날짜=2017-02-05',\n",
       " 'question': '대통령을 포함한 미국의 행정부 견제권을 갖는 국가 기관은?',\n",
       " 'id': 'mrc-1-000067',\n",
       " 'answers': {'answer_start': [235], 'text': ['하원']},\n",
       " 'document_id': 18293,\n",
       " '__index_level_0__': 42}"
      ]
     },
     "execution_count": 85,
     "metadata": {},
     "output_type": "execute_result"
    }
   ],
   "source": [
    "data['train'][0]"
   ]
  },
  {
   "cell_type": "code",
   "execution_count": 84,
   "id": "ea035842",
   "metadata": {},
   "outputs": [
    {
     "data": {
      "text/plain": [
       "'국회에 관해 규정하는 헌법 제4장의 첫 조문이다.\\n\\n본조에서 말하는 \"국권\"이란 국가가 갖는 지배권을 포괄적으로 나타내는 국가 권력, 곧 국가의 통치권을 의미한다. 국권은 일반적으로 입법권·행정권·사법권의 3권으로 분류되지만, 그 중에서도 주권자인 국민의 의사를 직접 반영하는 기관으로서 국회를 \"최고 기관\"으로 규정한 것이다. 다만, 최고 기관이라 해서 타 기관의 감시와 통제를 받지 않는 것은 아니며 권력 분립 원칙에 따라 국회에 대한 행정권, 사법권의 견제를 받는다.\\n\\n또한 일본 전체 국민을 대표하는 기관을 국회로 규정함으로써, 국회는 일본의 유일한 입법 기관의 지위를 가지고 있다. 일본 제국 헌법 하에서 입법권은 천황의 권한에 속했으며, 제국의회는 천황의 입법 행위를 보좌하는 기관에 불과했다.\\n\\n여기서 \"유일한 입법 기관\"의 의미로는 다음과 같은 해석이 있다.\\n* 국회 중심 입법 원칙 : 국회가 국가의 입법권을 독점한다는 원칙\\n* 국회 단독 입법 원칙 : 국회의 입법은 다른 기관의 간섭 없이 이루어진다는 원칙\\n\\n또한 국회의 입법에 벗어나지 않는 범위 내에서 행정 기관은 정령 등의 규칙 제정권을 가지며(헌법 제73조 제6호), 최고재판소는 소송에 관한 절차, 변호사 및 재판소에 관한 내부 규율 및 사법 사무 처리에 관한 사항에 대한 규칙 제정권(헌법 제77조 제1항)을 가진다.'"
      ]
     },
     "execution_count": 84,
     "metadata": {},
     "output_type": "execute_result"
    }
   ],
   "source": [
    "contexts[52322]"
   ]
  },
  {
   "cell_type": "code",
   "execution_count": 79,
   "id": "0e822c5e",
   "metadata": {},
   "outputs": [
    {
     "data": {
      "text/plain": [
       "['대통령을 포함한 미국의 행정부 견제권을 갖는 국가 기관은?', '현대적 인사조직관리의 시발점이 된 책은?']"
      ]
     },
     "execution_count": 79,
     "metadata": {},
     "output_type": "execute_result"
    }
   ],
   "source": [
    "data['train'][0:2]['question']"
   ]
  },
  {
   "cell_type": "code",
   "execution_count": 90,
   "id": "7ba37abc",
   "metadata": {},
   "outputs": [
    {
     "data": {
      "text/plain": [
       "<seaborn.axisgrid.FacetGrid at 0x7f41e1221af0>"
      ]
     },
     "execution_count": 90,
     "metadata": {},
     "output_type": "execute_result"
    },
    {
     "data": {
      "image/png": "[encoded data removed]",
      "text/plain": [
       "<Figure size 360x360 with 1 Axes>"
      ]
     },
     "metadata": {
      "needs_background": "light"
     },
     "output_type": "display_data"
    }
   ],
   "source": [
    "import seaborn as sns\n",
    "sns.displot(data['train']['document_id'], binwidth=50)"
   ]
  },
  {
   "cell_type": "code",
   "execution_count": 87,
   "id": "93ba7124",
   "metadata": {},
   "outputs": [
    {
     "data": {
      "text/plain": [
       "'세인트조지역은 개통 이후 몇 차례 개편 공사에 들어간 바가 있다. 이 역의 버스 터미널 절반은 사용하지 않는 관계로 폐쇄된 상태이지만 나머지 터미널에 보수 작업이 들어갈 경우를 대비해 유지·보수 작업은 하고 있는 상태이다 현재 이 버스 터미널은 26번 듀폰트 버스만 이용하고 있다. 토론토 교통국은 또한 토론토 대학교가 블루어 스트리트 웨스트 252번지에 온타리오 교육 연구 학교 (OISE) 를 개장할 때 베드퍼드 애비뉴 대합실로 이어지는 무인 자동 출입구를 개통하였으며 1999년 7월 27일에는 베드퍼드 출입구에서 대합실, 버스 승강장 남쪽과 지하철 승강장을 잇는 엘리베이터를 설치하여 교통 약자들이 손쉽게 이용할 수 있게 되었다\\\\n\\\\n1993년, 세인트조지역은 베이와 스파다이나역과 더불어 폴 아서가 디자인한 새로운 간판이 설치된 시범역으로 선정되었는데, 이 간판은 노선색으로 노선을 알리고 그 역에 맞는 특별한 아이콘을 입혔다 세인트조지역의 아이콘은 세인트조지와 용에 관한 옛날 전설을 살려 TTC 실드에 용 문양을 덧붙였다. 이 새로운 간판은 완전히 도입되지 않았지만 초기 시범 간판이 2014년까지 그대로 남아있었다. 2016년, 세인트앤드루와 요크밀스역에 새로운 에나멜 금속 벽 커버가 호응을 얻으면서 에나멜 금속 패널이 승강장 벽 한 쪽에 설치되었다\\\\n\\\\n세인트조지역은 토론토 대학교와 가깝지만 대부분의 승객들은 세인트조지역에서 오랜 시간을 보내지 않는다. 버시티 경기장은 2001년에 문을 닫았고 이후 더 자그마한 경기장을 위해 철거되었다 이 역에서 내리는 대부분의 승객들은 환승객들로 지하철 두 노선이 최대 5분 간격으로 운행하기 때문에 심지어는 유니언역보다도 더 많은 승객을 수용할 수 있다. 2018년 1월 현재 세인트조지역은 별다른 리모델링 계획이 없으며 TTC 측은 이후 장기적으로 늘어나는 승객 수는 다운타운 릴리프 선이 해결할 수 있을 거라 믿고 있다'"
      ]
     },
     "execution_count": 87,
     "metadata": {},
     "output_type": "execute_result"
    }
   ],
   "source": [
    "contexts[18293]"
   ]
  },
  {
   "cell_type": "markdown",
   "id": "002d5fd5",
   "metadata": {},
   "source": [
    "\n",
    "# 3. Eval Set 둘러보기"
   ]
  },
  {
   "cell_type": "code",
   "execution_count": 91,
   "id": "476f4d45",
   "metadata": {},
   "outputs": [],
   "source": [
    "from datasets import load_from_disk\n",
    "test_data = load_from_disk('../../data/test_dataset')"
   ]
  },
  {
   "cell_type": "code",
   "execution_count": 92,
   "id": "7b83ce31",
   "metadata": {},
   "outputs": [
    {
     "data": {
      "text/plain": [
       "DatasetDict({\n",
       "    validation: Dataset({\n",
       "        features: ['id', 'question'],\n",
       "        num_rows: 600\n",
       "    })\n",
       "})"
      ]
     },
     "execution_count": 92,
     "metadata": {},
     "output_type": "execute_result"
    }
   ],
   "source": [
    "test_data"
   ]
  },
  {
   "cell_type": "code",
   "execution_count": 95,
   "id": "e3c7d7d0",
   "metadata": {},
   "outputs": [
    {
     "data": {
      "text/plain": [
       "[\"유령'은 어느 행성에서 지구로 왔는가?\",\n",
       " '용병회사의 경기가 좋아진 것은 무엇이 끝난 이후부터인가?',\n",
       " '돌푸스에게 불특정 기간동안 하원이 잠시 쉬는 것을 건의 받았던 인물은?',\n",
       " '마오리언어와 영어, 뉴질랜드 수화를 공식 언어로 사용하는 나라는?',\n",
       " '디엔비엔푸 전투에서 보응우옌잡이 상대한 국가는?',\n",
       " '단공류가 일반 포유류와 다르다는 것을 알 수 있는 신체 부위는?',\n",
       " '상류 부르주아의 정치 독점을 불러일으킨 체계는?',\n",
       " '아시노 호가 만들어진 원인은 무엇인가?',\n",
       " '흉년이 발생하고 곳곳에 난이 일어났던 시기는?',\n",
       " '급전궤도는 보통 무엇으로 만들어져 있는가?',\n",
       " '클레어에게 오세아닉 815편을 타라고 말한 사람의 이름은?',\n",
       " '제6군이 18일 동안이나 대기해야 했던 장소는?',\n",
       " '누가 시장으로 선출되면서 트랜짓 시티 계획안이 불발되었나?',\n",
       " '1차 대각성 운동이 일어나는데 큰 영향을 끼친 설교는 어디서 진행되었는가?',\n",
       " '괴수로부터 메구밍을 구해준 사람은 누구인가?',\n",
       " '슈파이어 대성당 2차 축조시에 가장 우선순위로 고려했던 천장 건축 방식은?',\n",
       " '통대를 뽑을 수 있었던 주체는 누구인가?',\n",
       " '이유립씨가 1970년대 중반에 본인의 글을 기고하기 시작한 곳은?',\n",
       " '미군이 충원되지 않으면 서울이 전쟁 시작 후 2주만에 함락될 것이라 밝힌 문서는?',\n",
       " '임경업 장군이 도를 닦은 곳으로 알려진 곳은?',\n",
       " '화재에서 인종을 구한 공으로 귀인으로 직위가 오른 사람은?',\n",
       " '초등학생 일기검사의 인권침해 여부를 판단하는 주체는?',\n",
       " '콘스탄티누스가 군사 4만 명을 이끌고 침범한 나라는?',\n",
       " '불보살이 천도할 대상은?',\n",
       " '루돌로지스트들이 게임에서 가장 주된 것이라 주장하는 것은?',\n",
       " '조조에게 신고한 사람도 조사해야한다고 한 것은 누구인가?',\n",
       " '나카무라 번이 메이지 정부에 굴복하게 된 결투의 이름은 무엇인가요?',\n",
       " '펌프가 발매된 해는 언제인가?',\n",
       " '밀러허긴스가 법학을 전공한 곳은?',\n",
       " '유달산에서 다도해 절경을 볼 수 있는 바위는 무엇인가?',\n",
       " '아델리 펭귄의 목숨에 지장을 주는 사람의 업종은 무엇인가요?',\n",
       " '이타미 역이 종착역이었을 때 존재했지만 지진 이후 없어진 것은?',\n",
       " '석가모니 부처가 태어난 곳은 어디인가?',\n",
       " '동맹을 맺음으로써 헝가리는 자유를 비롯해 무엇을 잃었나?',\n",
       " '2001년까지 발견된 해왕성의 총 위성 갯수는?',\n",
       " '보덕이 전주 도달산에 세운 절은?',\n",
       " '제2함대의 편에서서 다른 문제를 제기한 인물은?',\n",
       " '틸의 삼촌댁 방문을 걱정한 인물은?',\n",
       " '코코넛으로 인해 매년 사람이 죽는다는 설화를 인용한 인물은?',\n",
       " '8천 명의 시민들이 모여 대규모 시위를 벌인 지역은?',\n",
       " '체임벌린에 의해 무역부의 회장 자리를 받게 된 사람은?',\n",
       " '철툇자루를 제작하는데 주로 활용된 재료는?',\n",
       " '앙드레-귀스타브 시트로엥이 만든 기업 이름은?',\n",
       " '논문으로 플라톤주의의 허점을 언급한 사람은?',\n",
       " '유로니우스를 살해한 용의자가 소속된 밴드의 국적은?',\n",
       " '여운형이 경성헌병대에서 풀려난 날짜는?',\n",
       " '엔도에게 차키를 돌려주려던 사람은？',\n",
       " '워렌이 스스로 영화를 제작할 수 있음을 입증하여 승부에서 이긴 상대는 누구인가?',\n",
       " '지브롤터 내셔널리그의 설립에 영향을 준 개편안이 발표된 시기는?',\n",
       " '안영애를 본보기로 만든 <당의 참된 딸>이라는 가극에서 극 중 여자 주연의 이름은?',\n",
       " '횡령 범죄자 조니를 체포한 요원은 누구인가?',\n",
       " '자신이 고안한 14개조 평화원칙을 국제 사회에 발표하고 싶어한 인물은?',\n",
       " '동인이 본격적인 세력을 잡은 때는?',\n",
       " '미나미 칸토 대회에서 구마가야 고등학교의 1차전 상대 학교는?',\n",
       " '독일에서 외국 영화를 상영할 수 없게 된 연도는?',\n",
       " '팔과 다리가 밋밋한 형태인 신체표현은 어떤 시기를 반영한 것인가요?',\n",
       " '19세기 후반의 장갑함에 사용된 화포 형식은?',\n",
       " '불상에 대한 정보가 적혀있는 것은?',\n",
       " '제2군에 참여한 일본의 유명인사 중 군인 신분으로 참여한 사람은 누구인가?',\n",
       " '연방군의 캘리포니아 기지보다 더 큰 규모의 기지는 어디에 있는가?',\n",
       " '베토벤이 받았던 후원 요금을 칭하는 단어는 무엇인가요?',\n",
       " '기븐 가의 첫째 아들은 누구인가?',\n",
       " '여호와가 기드온의 조상을 어디에서 구해냈는가?',\n",
       " '핀란드의 원주민들이 부족사회에서 벗어난 것은 언제인가?',\n",
       " '병으로 인해 피렌체의 수많은 사람들이 죽어갔음을 언급한 사람은?',\n",
       " '안드레우치오 디 피에트로를 몰래 지켜보던 인물은 어떤 지역 출신인가요?',\n",
       " '1876년 일반 투표에서 틸던에 패배한 인물은?',\n",
       " '경영을 위해 기관지에 싣기도 하는 것은?',\n",
       " '윌리엄 키드에게 공로장을 준 사람은?',\n",
       " '창원평야 구릉의 평평한 지형에서 발견된 흔적을 통해 성이 언제 지어졌다는 것을 알 수 있는가?',\n",
       " '수증기가 물이 되는 과정에서 가해지는 것은?',\n",
       " '1994년 FIFA 월드컵 당시 대한민국 축구 대표팀의 감독은 누구인가?',\n",
       " '나가시마에게 감독직을 맡아줄 것을 가장 열렬히 부탁했던 팀은?',\n",
       " '에이미는 서터에게 졸업 이후 어디에서 지내자고 권유하나요?',\n",
       " '어머니를 죽음에 이르게 한 것은 아들이 무엇처럼 행동했기 때문인가?',\n",
       " '후지무라 감독 퇴진 요구서에 대한 내용을 보도한 언론은?',\n",
       " '선라이즈의 애니메이션 작품 기획부는 야타테 하지메를 무엇으로 사용하는가?',\n",
       " '여운형이 조동호와 함께 조직한 것은?',\n",
       " '즈와쓰의 한계 오라력 값보다 필요 오라력 값이 낮은 기체는?',\n",
       " '평행 진화의 결과로 마블고양이가 가지고 있는 것은?',\n",
       " '연합 함대가 국지 경비 부대와 해상 호위 부대의 인재 육성을 경시해 일어난 결과는?',\n",
       " '정주영이 쌀가게 배달원으로 일한 가게를 인수한 해는?',\n",
       " '적이 항복 의사를 밝히며 다가오고 있음을 대대장에게 보고한 사람은?',\n",
       " '캐릭터의 다친 장면이 유일하게 나오지 않는 단계는?',\n",
       " '미치류가 해안가를 통해 다른 곳으로 이동했다는 주장을 뒷받침하는 것은?',\n",
       " '태풍 초이완의 경보는 어떤 순간부터 풀렸는가?',\n",
       " '잘리어 왕조의 초대황제 이름은?',\n",
       " '야고보가 강압적으로 배교에 관해 설교당했던 장소는?',\n",
       " '진시황이 죽은 이후 황제의 자리에 즉위한 인물은 누구인가?',\n",
       " '단색 배경에 추상적인 디자인을 쓰는 양식이 유행하던 시기는?',\n",
       " '2010년 국가대표팀 훈련에 참가한 이다혜가 독일로 돌아가게 된 이유는?',\n",
       " '웃시야의 정예 전투 병력을 통솔하는 사람은?',\n",
       " '포도주 테이스팅에서는 공평한 평가를 위해 무엇을 진행하기도 하나요?',\n",
       " '최고령 초등학생으로 기네스북에 올라있는 사람은?',\n",
       " '클린턴이 대통령 선거 초반에 내걸었던 정책은?',\n",
       " '베르글룬트가 직장을 그만둔 후 그 자리를 이어받은 사람은?',\n",
       " '베트남전 진실위원회 이후에 세워진 단체의 대표는 누구인가요?',\n",
       " '첫 도입 당시 1013개가 있던 것은?',\n",
       " '628년에 새롭게 왕위에 오른 사람은 누구인가요?',\n",
       " '전쟁에서 군인들의 삶을 보여주는 주요 등장인물은 누구인가요?',\n",
       " '셰이크 무지부르 라흐만의 딸이 처음으로 선거에서 졌던 해는?',\n",
       " '산조 대금보다 약 2도 정도 음정이 높은 대금은?',\n",
       " '소설 <형제>의 작가가 태어난 지역은?',\n",
       " '예수의 테오토코스에 대해 부정적으로 인식했던 인물은?',\n",
       " '파라메스와르가 해적의 도움으로 세운 나라는?',\n",
       " '온라인 사이트에 접속하지 못하게 하는 웹상에서의 시위는?',\n",
       " '로마가 판노니아를 장악한 시기는?',\n",
       " '1980년부터 1985년 사이, 미국달러가 세계 중요 4대 통화에 대해 50% 정도 평가절상된 이유는?',\n",
       " '헌터가 조지아에서 지시한 사항은 무엇인가?',\n",
       " '윤락행위등방지법이 전문 개정되었던 해는?',\n",
       " '무엇이 창 아래에 설치되어 표시기가 한 개 늘어났는가?',\n",
       " '베토벤의 귀 상태가 악화된 연도는?',\n",
       " '기존의 공중 네트워크로 중요 문서와 데이터를 전송하는데에 문제가 되었던 것은?',\n",
       " '1919년 정광조의 보직은?',\n",
       " '잉글랜드에서 보리와 함께 가장 많이 경작하는 작물은 무엇인가요?',\n",
       " '동화사 석조비로자나불이 제작될 때, 당시 임금은 누구였는가?',\n",
       " '미자르는 무엇의 일부인가?',\n",
       " '스트라디바리가 고령의 조짐을 보이기 시작한 해는?',\n",
       " '공격적 현실주의와 대비되는 고전적 현실주의를 설파한 인물은?',\n",
       " '컴퓨터 시각에서 분할의 대상은?',\n",
       " '삼한총왕설의 근거를 제공한 서적은?',\n",
       " '리자베타가 꿈 속에서 들었던 장소에 실제로 찾아가 발견한 것은?',\n",
       " '현직 추밀원사무처장 웨인울터즈의 선임은?',\n",
       " '진평공이 통치할 때 망해서 사라진 가문은?',\n",
       " '트로이 군사들은 아킬레우스에 의해 어디에서 사망했나요?',\n",
       " '세이드를 행하는 여성을 지칭하는 명칭은?',\n",
       " '세니와 대국 사무관들은 어느 편과 힘을 합치기로 했는가?',\n",
       " '공식적인 첫 새천년베이비의 이름은?',\n",
       " '레바논 전투에서 헤즈볼라는 누구에 대한 지지를 표명했나요?',\n",
       " '협동 화폐 거래소의 인정은 어느 부문에서 나타나는 변화인가?',\n",
       " '조선역사를 수호하는데 위기를 제공한 사람은?',\n",
       " '1930년대 흑인음악으로 백인들의 열렬한 사랑을 받았던 재즈의 한 분야는?',\n",
       " '여성의 몸치장에 쓰인 장신구의 위치가 저고리 밑으로 올라오게 된 때는 언제인가?',\n",
       " '비자나무의 열매는 어떤 증상을 치료하기 위해 쓰이나요?',\n",
       " '공소권이 사라질 경우 무엇에서 벗어나게 되는가?',\n",
       " '드레이어 감독이 잔 다르크에 비유한 사람은?',\n",
       " '\"아오테아로아\"의 기원에 관한 이야기마다 등장하는 인물은?',\n",
       " '용통의 위치는?',\n",
       " '<바다의 일꾼들>이 나온 연도는?',\n",
       " '일반비용과 특수비용을 더한 값을 총생산물로 나눴을 때 나오는 값은 무엇인가?',\n",
       " '지금에도 여전히 진화압을 받고 있는 헤마글루티닌 유전자의 한 종류는?',\n",
       " '질량을 킬로그램으로 정의하는 단위 규칙은 무엇인가?',\n",
       " '해적중의 활동을 승인한 것은?',\n",
       " '윤치호가 사촌동생을 통해 만나려고 했던 인물은?',\n",
       " '인쇄사전에서 쉽게 읽히게 하기 위해 사용하는 것은?',\n",
       " '미자가 일을 때려친 것은 누구 때문인가?',\n",
       " '피렌체파의 대미를 수놓은 사람은?',\n",
       " '고석포, 장군석, 할망바우라는 이름을 가진 바위는 무엇으로 유명한가?',\n",
       " '법안에서 제재를 취소할 수 있는 권리가 발생하는 경우는 무엇인가?',\n",
       " '영화 <제7의 봉인>의 제목의 모티브가 된 것은?',\n",
       " '튀폰의 아버지는 누구인가?',\n",
       " \"가톨릭 교회에서 주교에게 '최고사제'의 자격을 주는 직함의 이름은?\",\n",
       " '아랑을 살해한 사람은?',\n",
       " '제1 공수 사단은 어느 나라 부대인가?',\n",
       " '당의 군대를 몰살시킨 사람은?',\n",
       " '레빌 장군은 무엇이 없었기 때문에 실망했나?',\n",
       " '이스다렌의 여인이 중심적으로 스파이 활동을 한 국가는?',\n",
       " '헨리 5세가 1415년에 프랑스 북쪽을 공격하기 위해 동원한 군사는 몇 명인가?',\n",
       " '전반전이 6분이 지난 후 골을 넣은 선수는?',\n",
       " \"천자등극설'을 대중들에게 확산시킨 행사는?\",\n",
       " \"갖지 못한 국가'가 위기를 극복하기 위해 광폭한 전쟁과 함께 시행한 것은?\",\n",
       " '통근특급이 걸림돌인 노선과 서로 평면교차하는 노선은 어디인가?',\n",
       " '장정기가 들어있는 우산이끼의 가지는?',\n",
       " '멕시코 연방 정부는 메탈클래드에게 얼마를 보상하라고 하였나?',\n",
       " '대학원에서 수업을 듣던 시절 소설을 출품하던 곳은 어디었는가?',\n",
       " '국경일에 일장기를 달아도 반대하지 않을 것이라는 내용을 담은 윤치호의 일기는 언제 쓰여진 것인가?',\n",
       " '석조지장보살상이 조각되지 않았을 것으로 추정되는 시기는?',\n",
       " '이회광이 이용구의 추천으로 원종 고문 자리에 세운 사람은?',\n",
       " '갈릴레오 호 직전에 관측을 진행한 발사체의 이름은?',\n",
       " '사관학교에서 졸업을 할 때 던지는 물건은?',\n",
       " '노르웨이 노르카프에서는 어느 계절에 백야를 항상 볼 수 있나요?',\n",
       " '1991년에 오브차라를 강제수용소로 변경하여 사용하려 했던 세력은?',\n",
       " '호르몬의 주요 생성장소가 위치한 곳은?',\n",
       " '금산법 제 24조에 의거하여 대통령령이 시행되는 경우 어느 기관의 승인을 받아야 하는가?',\n",
       " '셰익스피어의 <<실수 연발>>에서 두 쌍의 쌍둥이 형제들이 재회하는 장소는?',\n",
       " '자미토프가 개혁을 강행하기 위해 설립한 사병 집단은?',\n",
       " '실제 상황을 이해하려면 몇 차원 상자 속 입자 문제를 풀어야 하나?',\n",
       " '메구밍에게 자신이 사용하던 안대를 준 사람은?',\n",
       " '아나톨은 언제부터 작성되었나요?',\n",
       " '사라스테의 후임은 누구인가?',\n",
       " '일제강점기 당시 형조와 같은 역할을 한 기관은?',\n",
       " '버넘이 허빅-아로천체를 찾아냈을 때, 사용한 물건은?',\n",
       " '윤창중이 인턴 직원을 성추행한 것으로 알려진 날짜는?',\n",
       " '린후이인이 원래 진학하고 싶어했던 과는?',\n",
       " '강요에 의한 개혁이 아니라 긴 기간 동안 의회의 권한을 키운 국가는?',\n",
       " '한중을 공격 시, 군량과 운송이 속한 조조의 부대는?',\n",
       " '주인규는 무엇 때문에 스스로 생을 마감하게 되는가?',\n",
       " '프리츠는 어느 나라의 왕인가?',\n",
       " '트루먼이 탐험을 하지 못하게 크리스토프가 제거한 인물은?',\n",
       " '반-베블런 효과가 처음 소개된 곳은?',\n",
       " '성 요한 기사단이 로도스 섬으로 거처를 옮긴 년도는?',\n",
       " '단순 조화 진동자의 진동 주기는 무엇의 세기에 비례하나요?',\n",
       " '팰퍼틴에게 비상시의 권리를 도맡아 달라고 의견을 냈던 인물은?',\n",
       " '제1차 마른강 전투에서 이긴 국가는?',\n",
       " '텔 아파르나 키프리를 탈환하기 위해 계획 중인 집단이 소속된 나라는 어디인가?',\n",
       " '상하이의 북역과 남역 모두를 자유롭게 타기 시작했던 해는?',\n",
       " '브레킨리지가 루이지애나주 배턴루지를 얻는 데 실패한 해는?',\n",
       " '매우 센 중력에 의해 빛이 탈출하지 못하는 천체는?',\n",
       " '국부 제거술로 인한 환관지망생들의 사망률은?',\n",
       " '날개 앞쪽으로 연꽃을 들고 있는 인면조가 그려진 백제의 유물은 무엇인가?',\n",
       " '각 측에서 주장된 포로교환 방법 중 선택된 것은?',\n",
       " '억스브릿지선이 생긴 이유는?',\n",
       " '암컷류가 수중에 생식을 하거나 알주머니를 다른 물체에 붙이는 생식 방법은?',\n",
       " '판 호이동크에게 어시스트를 해준 선수는?',\n",
       " '레오폴 2세가 국제아프리카협회로 부른 민간 지주 회사를 결성한 해는?',\n",
       " '티나헤로가 아칸바로의 유적을 날조한 것이라고 주장한 인물은?',\n",
       " '메리의 사촌은 어디에서 영웅으로 활약하기도 했나요?',\n",
       " '대가족제도에서 차별의식을 더욱 강화시켰던 문화는?',\n",
       " \"마'를 피하기 위해 살몬 신전을 보낸 곳은?\",\n",
       " '모하치 전투 후 오스만 제국과 헝가리 왕국을 둘로 나눈 나라는?',\n",
       " '임규남이 병원에 입원하는 바람에 해고 당한 직장은?',\n",
       " '모세가 십계명을 받고 시나이 산에서 내려와 누구를 보고 슬퍼하고 분노했다고 <탈출기>는 전하는가?',\n",
       " '타격이 시작되는 것은 대상이 어디에 나타날 때인가?',\n",
       " '귀족적인 정치가의 이미지를 탈피하기 위해 노력하였으나 실패한 인물은?',\n",
       " '본인의 일에 진중하게 임했고 많은 것을 연습했지만, 자신의 옷차림에 불만을 제기했던 인물은?',\n",
       " '로마의 인력 수급에 중요한 역할을 한 나라는?',\n",
       " \"몇 년간의 전쟁을 통해 '귀방'이라 불리는 이민족이 정벌되었는가?\",\n",
       " '슈타우펜베르크는 들 것에 실려나온 사람이 무엇을 덮고 있는 것을 보고 히틀러의 죽음을 단정했나?',\n",
       " '화물과 배가 시내 가까이에 갈 수 있는지의 여부를 정하는 기준이 된 문서는?',\n",
       " '버섯왕국의 피치 공주를 납치한 악당 거북의 이름은?',\n",
       " '작센군과 오스트리아군은 함께 어디를 공격할 예정이였나?',\n",
       " '팬들이 스스로 만드는 상품을 뭐라 하는가?',\n",
       " '박헌영이 정부의 역할을 미군정에서 인민위원회로 즉시 넘겨달라고 요구했던 성명은 무엇인가?',\n",
       " '한국에서 음식을 올려놓을때 쓰이는 세간의 이름은 무엇인가요?',\n",
       " '네델란드와의 친선 경기에서 유일하게 골을 넣은 선수의 소속팀은?',\n",
       " '독일의 식민 지배는 언제까지 지속됐는가?',\n",
       " '전효숙이 재판관직 사임으로 민간인이 되었을 때 헌법소장직을 대행 한 사람은?',\n",
       " '우리손은 위상 공간을 거리화하려면 그 공간이 제2 가산 공간임과 더불어 어떤 공간이어야 한다고 증명했나?',\n",
       " '할릴자드 대사와 정치적 이야기를 나눈 아프간 대통령은?',\n",
       " '베니 간츠가 리쿠드당과 같은 노선을 밟겠다는 입장을 표명한 이후, 청백당을 나갔던 인물은?',\n",
       " '아일랜드의 자원 공급 불안과 지구 온난화에 대한 해결방안은?',\n",
       " '안전한 거래를 지지하는 주식 시장 참여자들은 어떤 집단 극화 양상을 보이나요?',\n",
       " '경신자오단오제가 지금의 이름이 되기 직전의 명칭은 무엇이었는가?',\n",
       " '히틀러의 반란은 누구를 모방한 것인가?',\n",
       " '최초로 공산주의 정당을 제외한 선거 이후 메리가 맡은 직책은?',\n",
       " '게임 발표회에서 제작기간이 부족했다고 한 사람은?',\n",
       " '히키코모리가 유독 많아졌던 세대는?',\n",
       " '1985년 스토우빌선 열차가 스토우빌에서 출발해 여섯 번째로 정차했던 역은?',\n",
       " '2012년에 공금횡령의 죄목으로 김모씨의 긴급 체포를 진행한 집단은?',\n",
       " '오노에게 영향을 미친 장 폴 사르트르의 철학은?',\n",
       " '밀란 루키치는 그의 위법행위로 인해 어떤 형을 받았나?',\n",
       " '북버지니아군이 챈슬러즈빌 전투에서 상대한 것은?',\n",
       " '산악 자전거 프리 라이드 부문에 출전하는 마틴 소더스트롬이 이용하는 제품은?',\n",
       " '<굳세어라 금순아>의 작곡가가 실제 피난생활을 했던곳은?',\n",
       " '크리스티앙 드카스를 포로로 잡은 인물은 누구인가?',\n",
       " '폐예노르트와 아약스가 \"더 클라시커르\"에서 맞대결을 할 때 경기가 치뤄지는 곳은?',\n",
       " '총 14만 명의 인도인들이 영국 전쟁의 지원을 위해 보내졌던 곳은?',\n",
       " '강희제가 310 마리의 토끼를 사냥하려면 얼마나 걸리는가?',\n",
       " '공공 사업 법안이 통과되지 못하자 와그너가 내세운 법령은 무엇인가?',\n",
       " '모스크바로 가기 위한 여권이 필요한 사람은?',\n",
       " '부피와 무게감을 나타낸 얼굴이나 짧은 목 등을 통해 알 수 있는 불상의 축조 시기는?',\n",
       " '금속을 다루는 능력의 진보가 이루어지며 등장한 대포는 무엇인가?',\n",
       " '로마의 성벽을 확장한 인물을 기록한 사람은?',\n",
       " '반사는 어디에서 온 데이터로 인해 발생하는가?',\n",
       " '마켓가든 작전을 다룬 작품은?',\n",
       " '도플라밍고가 해군에 체포되기 전에 서로 싸웠으며 그가 현상금 3억 베리를 건 인물은 누구인가?',\n",
       " '정치적 코미트를 담고있는 작품은?',\n",
       " '군자면에서 당 선전으로 활동한 사람들의 직업은?',\n",
       " '합동조사반에 의하면 사고의 원인에는 과적 외에 어떤 것이 있는가?',\n",
       " '양산이씨 종가가 보유한 왕지 중 양산이씨의 시조와 관련한 왕지는 몇 점이 있는가?',\n",
       " '공룡을 닮은 토우는 어디에서 발견되었나요?',\n",
       " '주파수가 높은 강한 전자파가 사람의 몸에 닿아 부정적 영향을 일으키는 원리는?',\n",
       " '10세기 초에 글라골 문자와 그리스 문자를 이용해 새롭게 만들어 낸 문자는?',\n",
       " '이경언이 사망한 장소는?',\n",
       " '김일성이 소련인으로서 살고 싶어했다고 말을 한 인물은?',\n",
       " '고구려에 크게 지고 그 전쟁때문에 병이나서 죽은 당나라 왕은?',\n",
       " '안더스가 폴란드 제2군단을 설립한 나라는?',\n",
       " '이탈리아계 미국인들의 민주당 뉴딜 연정 가입으로인해 이득을 본 공화단원은?',\n",
       " '국민회의 측이 비판한 대통령의 발언은 언제 한 발언이었나?',\n",
       " '화가 난 스승이 아힘사에게 살인 후 목걸이로 만들어 오라고 한 신체부위는?',\n",
       " '아테네가 주도권을 잃어버리는데 영향을 준 인물은?',\n",
       " '레닌에 의하면 자본주의식 농업 시스템을 통해 일반 시민들이 더 쉽게 사용할 수 있게 된 것은 무엇인가?',\n",
       " '아르튀르가 베르린과의 연애생활을 한 경험을 쓴 시집이름은?',\n",
       " '섬 정부가 영국 정부가 지시내리기전에 섬에서 모두 쫓아낸 민족은?',\n",
       " '로버트 마틴은 단일 책임 원칙을 알려주기 위해 누구의 책을 참고하였나?',\n",
       " '네덜란드어를 몰랐으나 타펠 아나토미아의 해부도 번역에 참여한 것은 누구인가?',\n",
       " '금기시된 소재를 다룬 소설이 출간된 해는?',\n",
       " '하이네스에게 화염의 힘을 받은 인물은 누구인가요?',\n",
       " '선생님에게 창씨개명을 하지 않겠다고 한 사람은?',\n",
       " '교황의 자리에 오른 후 보니파시오 3세가 바꾼 것은 몇 개인가?',\n",
       " '주권재민의 원칙은 어디에 명시되어 있는가?',\n",
       " '제임스 와트와 같은 역사적인 발명가를 배출한 곳은 어디인가요?',\n",
       " '사이트에 올라오는 콘텐츠를 검열하는 주체는 누구인가?',\n",
       " '교전 당사자에 대한 전쟁 범죄 심판시 판단 기준이 되는 법은?',\n",
       " 'A지구 아랫부분에서 민무늬토기와 더불어 어떤 유물이 발굴되었나?',\n",
       " '시켈리아 원정을 기획한 국가는?',\n",
       " '마지막까지 동래권번에 드나든 동래한량꾼은?',\n",
       " '표준어 보급으로 오키나와현에서 고사될 위기에 있는 언어는?',\n",
       " '도스토옙스키를 연구할 때 큰 도움이 됐던 책은?',\n",
       " '인도의 아육왕 계통의 불상의 의복 형식과 유사한 자료를 소장하고 있는 곳은?',\n",
       " '21대 총선을 겨냥하여 사법개혁을 이끌어갈 수 있다는 것에 뒷받침된 명목은?',\n",
       " '카를이 교황으로부터 신성 로마 제국 황제관을 부여받은 장소는?',\n",
       " '둠 3: 악마의 부활에서는 최대 몇 명까지 동시에 즐길 수 있나요?',\n",
       " '클라우드 컴퓨팅으로 작동하는 시스템은 무엇을 통해 어플리케이션에 들어갈 수 있나요?',\n",
       " '티칼왕조의 창건자는 몇 번 무덤에 묻혔다고 알려져있나?',\n",
       " '낮에는 어떤 바람이 부는가?',\n",
       " '보닌의 흉터는 어디서 만들어졌을거라 추측되는가?',\n",
       " '유럽에서 두 번째로 큰 국가에는 몇 개의 국립공원이 존재하는가?',\n",
       " '윤치호의 아내는 누구의 부인을 방문했나?',\n",
       " \"17도선이 '잠정적인 군사분계선'으로 규정된 연도는?\",\n",
       " '루이가 사망하게 될 원인은 무엇인가?',\n",
       " '기독교와 메시아에 대한 생각이 다른 사람들은?',\n",
       " '종교 개혁 전 영국에서 인기를 끌었던 헌신은?',\n",
       " '107고지를 처음 함락시킨 부대는?',\n",
       " '결론에 표시하지 않는 개념은?',\n",
       " '코드 서명이 보증하는 대상은?',\n",
       " '위트레흐트 육군 군의학교가 폐교된 해는 언제인가요?',\n",
       " '타누당(TANU)를 설립한 인물이 태어난 해는?',\n",
       " '퀵실버(영화)에서 집시를 고가도로에서 추락시킨 사람을 연기한 배우는?',\n",
       " '고구려와 당나라 사이에 4대 전투 중 유일하게 다른 해에 일어난 전투는?',\n",
       " '도쇼구 역의 승강장은 몇 층에 있는가?',\n",
       " \"navigation'이 올라온 사이트는?\",\n",
       " '1661년 건축 시 제팅기법의 지나친 사용을 제재한 사람은?',\n",
       " '코페르니쿠스 유해의 진위여부를 밝힌 사람은?',\n",
       " '오가키로 향하는 아보시 발 도카이도 본선 기차를 운영하는 때는?',\n",
       " '해안포를 정착해 해안을 방어하기 위해 건설한 것은?',\n",
       " '네덜란드의 모든 이들이 오라녜나사우 훈장을 받을 수 있게 된 건 몇 년인가?',\n",
       " '스위스가 월드컵에서 이긴 나라는?',\n",
       " '출혈성 천연두 초기와 말기 환자 모두에게 증가하는 물질은?',\n",
       " '도룡뇽이 수분 증발을 예방하고 몸이 마르지 않도록 내뿜는 것은?',\n",
       " '경상좌도 수군절도사영이 관리했던 곳은?',\n",
       " '공원으로 변화되는 곳은?',\n",
       " '신돈의 어미니는 어느 곳에 소속된 노비인가?',\n",
       " '사건 몇 개를 풀 때 마다 아키이시가 아이템을 주나?',\n",
       " '함세환은 어느 군대에 스스로 입대하여 전투에 참여했나요?',\n",
       " '일제의 남한 대토벌 작전은 어느 지역에 대한 압박이었나요?',\n",
       " '대원씨아이가 어떤 회사와 계약하여 한국에서 뉴타입을 출간할 수 있었나?',\n",
       " '장하준 교수의 한국경제에 대한 생각에 대해 반론한 김상조 교수의 저서는?',\n",
       " '베르니이헝 조약이 체결된 해는 언제인가?',\n",
       " '자신의 사리사욕만 채우며 무능했던 진나라의 황제는?',\n",
       " '보스턴 차 사건이 발발한 년도는?',\n",
       " '시에나의 신비주의에 대비되는 피렌체 미술계의 성향은?',\n",
       " '목포근대역사관 본관의 건축 양식은?',\n",
       " 'Yoo Doo Right이 수록된 앨범명은?',\n",
       " '고스자쿠 천황이 사망한 연도는?',\n",
       " '조비에게 정의를 살려달라고 부탁했다가 사망한 인물은?',\n",
       " '황금방울새 그림을 유리창의 일부였을거라 추측한 인물은?',\n",
       " \"외국인 근로자 고용 등에 대한 법률'의 목적은?\",\n",
       " '17세기 피쿼트로부터 독립하여 모하칸족을 만든 사람은?',\n",
       " '해동검도의 예도 검법 중에 나한일과 김정호가 직접 만든 검법은?',\n",
       " '무슈 두 파리를 선발하는 기관은?',\n",
       " '헨드릭스가 공화당 행정부를 공격했을 당시 어디서 선거 유세를 하던 중이었나?',\n",
       " '1대부터 4대 칼리파를 통틀어 부른 명칭은?',\n",
       " '그레이가 수술을 받은 것은 어디를 다쳤기 때문인가?',\n",
       " '프랑스군은 마렝고에서 어떤 나라의 군대와 마주하였나?',\n",
       " '월드컵에 출전 한 다른 나라에 비해 대한민국 선수들이 강하지 못한 부분은 무엇인가?',\n",
       " '크라테로스를 사망에 이르게 한 동물은?',\n",
       " '누아다가 오른손이 없는 이유는 누구 때문인가?',\n",
       " '현대 식물원은 언제 오픈되었는가?',\n",
       " '필리프가 왕실에서 쫒겨난 사건의 단초가 된 역사적 사건은?',\n",
       " '의존성 주입은 어디에서 쓰이는 기술인가요?',\n",
       " '시바사키의 이전 소속 부서는?',\n",
       " '높은 기온과 과식으로 인해 유발되는 증상은 무엇인가?',\n",
       " '평등과 복지 사회를 이루기 위해 필요한 것이라는 선전 하에 행해지는 것은?',\n",
       " '야전의 전투 제한 시간은?',\n",
       " '키요미와 자신이 아끼는 2명을 지키기 위해 목숨도 아까워 하지 않은 사람은?',\n",
       " '카이사르가 브리튼인의 문화와 흡사한 문화를 가지고 있다고 생각한 부족은?',\n",
       " '《서편 삼층석탑》은 어느 지역의 유형문화재로 지정되어있나요?',\n",
       " '셀린 문학의 스타일은 무엇이라 묘사되는가?',\n",
       " '공하류는 어디로 분류되는 것으로 추측하고 있는가?',\n",
       " '맬컴이 맥더프에게 상실에 슬퍼할 줄 알아야 함을 배우는 장은?',\n",
       " '헝가리 요리와 오스트리아 요리가 교류한 시기는?',\n",
       " '와그너법령이 통과된 해는?',\n",
       " '파프니르의 피를 마시고 배신당할 것을 알게 된 인물은?',\n",
       " '이보담은 어느 절에서 스님이 되었는가?',\n",
       " '헌재 결정에 대해 적극적으로 동의한 당은?',\n",
       " '후방에 배치된 돈 후안 호세 나바로의 함대의 배는 몇 척인가?',\n",
       " '요원들의 마지막 임무 대상은 누구인가?',\n",
       " '1998년 5월에 리치먼드와 함께 워싱턴 위저즈로 팀을 옮긴 사람은?',\n",
       " '이무훈에게 살해당한 인물의 직책은?',\n",
       " '천왕성에서 계절의 변화가 크지 않은 것은 무엇 때문인가?',\n",
       " '조흔색은 무엇을 구별하는데 도움을 주나요?',\n",
       " '수술대 하부에 꿀샘이 존재하면 꽃밥은 어디를 향해 있는가?',\n",
       " '부부 중 1인이 단독으로 혼인취소소송을 제기하고자 하는 경우 누구를 상대로 소를 제기하여야 하는가?',\n",
       " '군부세력들이 어떤 상황을 빌미로 쿠테타를 일으키려고 했나?',\n",
       " '1754년에 철거되었던 시장이 왕실 특허를 재확인받았던 해는?',\n",
       " '우치쿠라노 이시메가 작성한 내용이 실린 기록은 무엇인가요?',\n",
       " \"호적을 '남'에서 '여'로 바꾼 인물은?\",\n",
       " '보디 스타킹에서 봉제되지 않은 부분은?',\n",
       " '프랑크 왕족들의 무덤이 있는 곳은?',\n",
       " '스페인령 아메리카에서는 누구의 공격에 대응하는 것이 주요한 문제였나?',\n",
       " '신문 <파시스트 정권,Il Regime Fascista>의 주된 논조는?',\n",
       " '롬멜이 어디에 대응하기 위해 나무 기둥과 통나무를 이용하라고 지시했나?',\n",
       " '아우구스트 빌헬름은 어떤 군지휘관이 모이 전투에서 전사하며 타격을 입게 되나?',\n",
       " '카쿠와 로브 루치의 현재 신분은?',\n",
       " '이토 히로부미가 정치적 대립관계인 오쿠마 시게노부에게 준 관직은?',\n",
       " '홉베마의 스승은 누구인가요?',\n",
       " '정치 형태를 홍보하려는 목적으로 류경 스마트폰에 내장된 책의 이름은 무엇인가?',\n",
       " '중세 아랍 제국에서 여권과 세금 납부 증명서를 겸용한 서류의 이름은 무엇인가?',\n",
       " '일본 히로히토 천황이 항복을 선언한 해는?',\n",
       " '안채와 사랑채 사이에 있는 장소의 앞면은 몇 칸인가요?',\n",
       " '쿠챤과 밀로셰비치의 협의에 대해서 작성한 작가의 출신국가는?',\n",
       " '시도 도지사가 시도 소속 소방공무원을 임용할 수 있도록 개정된 법은?',\n",
       " '피아노 즉흥 연주 경연대회에서 베토벤의 스폰서는 누구였는가?',\n",
       " '곰팡이에 대해 무지했던 사람들은 까망베르 껍질에 대해 어떻게 생각했는가?',\n",
       " '2016시즌 당시 테일러는 누구 대신 주전이 되었나?',\n",
       " '존 크루거가 유일하게 믿는 사람은?',\n",
       " '호연재 김씨의 시증조부는?',\n",
       " '아랍 연합 공화국은 어느 국가를 상대로 전쟁을 벌였는가?',\n",
       " '볼세비키에 참가해 볼세비키의 군적 역량을 강화시킨 사람은 누구인가?',\n",
       " '무관학교를 설립한 인물은?',\n",
       " '너비아니에 돼지고기를 사용한 시대는?',\n",
       " '레르도의 군대가 디아스의 군대에게 대패한 곳은?',\n",
       " '박철민이 처음 연기를 시작한 것은 언제인가?',\n",
       " '손턴 와일더 사후, 최고의 명작으로 손꼽히는 작품은 무엇인가?',\n",
       " '신립이 스스로 목숨을 끊은 곳은?',\n",
       " '학생이 테스트에서 탈락하고 다시 검증을 받는 과정은 언제까지 반복되는가?',\n",
       " \"단어 '토레혼'의 어근은?\",\n",
       " '윤치호가 송도고등보통학교의 네 번째 교장을 맡게 된 해는?',\n",
       " '투표하기로한 후보 대신 당선되면 시장직을 수행하겠다는 솔터에게 표를 준 단체는?',\n",
       " '김옥균이 암살을 피하기 위해 돌아다닌 곳은?',\n",
       " '파아 디브루노 함을 끝까지 공격했던 배는 어느 나라 소속인가요?',\n",
       " '미시시피 강으로 인해 멕시코 만류가 생겼다는 주장이 힘을 잃은 이유는 멕시코 만류가 무엇으로 알려졌기 때문인가?',\n",
       " '피아노 협주곡 5번의 첫 공개 초연이 이루어진 해는?',\n",
       " '총선에서 듀이를 꺾은 사람은?',\n",
       " '베단타 학파와 차르바카파는 무엇을 기준으로 나뉘어졌나요?',\n",
       " '윤치호는 성주이씨의 묘소를 누구에게 알려주었는가?',\n",
       " '진관희가 짧은 기자 회견을 가진 해는?',\n",
       " '히보코가 용서의 대가로 받은 물건은?',\n",
       " '토산물을 착취하는 등과 같은 업무의 명목은?',\n",
       " '프리덤 건담의 이름을 지은 사람은?',\n",
       " '부첼라토가 지니는 전통적인 의미는?',\n",
       " '인천상륙장면의 재촬영에 소요된 금액은?',\n",
       " '좌운검이 도연이 정조의 자손인 것을 아무도 모르게 하기 위해 한 행동은?',\n",
       " '통진당을 해산시킨 결정을 인정한다고 직접 말한 인물은?',\n",
       " '진홍빛 장미가 만들어진 원인을 제공한 자는?',\n",
       " '콘코바르가 알릴과 메브와의 전투에서 분실한 것은?',\n",
       " '가트나는 2020년에 사물 인터넷 기술을 사용하는 사물은 몇 개일거라 예측했나?',\n",
       " '마가렛의 모친은 어떤 나라의 왕족이었나?',\n",
       " '카틸리나는 누구 덕분에 간통 혐의에서 벗어날 수 있었나요?',\n",
       " '파브르는 그의 글을 통해 누구에게 자연과학에 대한 사랑을 전했는가?',\n",
       " '에이몬 b. 킹을 파견한 사람은?',\n",
       " '지방총감부 제도를 없애기로 결정한 곳은?',\n",
       " '처음으로 염색된 섬유가 발견되었던 장소는?',\n",
       " '레이크가 가장 큰 영향을 받았다고 한 작품의 이름은?',\n",
       " '붉은자이언트날다람쥐 암컷의 일 년 평균 번식 횟수는?',\n",
       " '레이가 골트 이후에 사용한 가짜 이름은 무엇인가요?',\n",
       " '물방울에 급수대의 이물질이 없는 가습기는?',\n",
       " '강현의 아들 이름은?',\n",
       " '유에에게 마력을 넘겨준 사람은?',\n",
       " '어버이새가 새끼들의 먹이를 보관하는 곳은?',\n",
       " '쓰루가 방면의 신쾌속 열차가 특급 선더버드 호의 추월을 위해 대기할 때는 언제인가?',\n",
       " '경서교회를 설립한 사람이 태어난 도시는 어디인가?',\n",
       " '베언트 푀어슈터 덕분에 얻은 페널티 킥을 누가 하였는가?',\n",
       " '사장이 부하직원에게 행사할 수 있는 권리는 무엇인가?',\n",
       " '19세기 가곡이 성행하는 데 큰 역할을 한 인물은?',\n",
       " '부부가 딸을 차에 태운 곳은?',\n",
       " '국사가 국내 인부 동원의 권한을 얻는 계기가 된 사건이 일어난 곳은?',\n",
       " '미종예의 전신은 무엇인가?',\n",
       " '고조선의 도읍지와 관련하여 한국 역사학계에서 널리 인정받는 이론은?',\n",
       " '분류 작업 중 일정한 시점에 미리 종료함으로써 속도를 올릴 수 있는 것은?',\n",
       " '제미니 상을 탄 프로그램의 제작 시기는?',\n",
       " '행인의 플로이드가 코피난다는 말에 경찰관은 뭐라고 말했는가?',\n",
       " '세종대학교의 기후변화센터는 언제 만들어졌나?',\n",
       " '이대우를 중심으로 모인 학생들은 무엇에 항변하기 위해 시위대를 조직했는가?',\n",
       " '바이츠만은 어떤 나라를 향해 밸푸어 선언을 했나요?',\n",
       " '타코벨을 한국에 세 번째로 도입한 회사는?',\n",
       " '기무라의 이론을 기반으로 2명의 학자가 새로운 이론을 발표한 해는?',\n",
       " '아만시오가 처음으로 출전한 유럽대항전의 결과는?',\n",
       " '다중 계정 사용자의 판별을 불가능하게 하는 것은?',\n",
       " '아즈마의 초기 명칭은?',\n",
       " '로타르 마이어가 1853년에 병리학을 공부하던 대학교는 어디였는가?',\n",
       " '러시아를 견제하기 위해 조선에 군사를 요구한 청나라의 왕은?',\n",
       " '인간에게 가장 익숙한 크기의 개념은 무엇인가요?',\n",
       " '니콜라 요셉이 벨기에에 돌아가도록 결정적인 영향을 준 기사를 내보낸 사람은?',\n",
       " '발산형 경계와 수렴형경계의 마그마 점성이 다른 이유는?',\n",
       " '조선박물연구회가 공포하고자 한 것은?',\n",
       " '태사 백은 환공의 질문에 왜 남쪽이 부적절하다고 답하였는가?',\n",
       " '스탈린그라드의 소련군 중 사정이 나았던 부대는?',\n",
       " '특정한 글자에 대해서만 모아치기가 가능한 자판은?',\n",
       " '이론물리학에 비해 수학적인 부분을 더 강조하는 학문은?',\n",
       " '쇼와 천황이 맥아더 옆에 직립부동자세로 찍힌 사진이 일반 신문에 실린 해는?',\n",
       " '청구취지는 밝히는 방법은?',\n",
       " '광배는 부처의 육신에서 나오는 어떠한 것을 하나의 형체로 표현한 것인가?',\n",
       " '쇼 자마가 부모에 대한 반발을 계기로 가지게 된 장래희망은?',\n",
       " '남자친구를 잃은 슬픔에 대해 《Moonlight Shadow》에서 말한 인물은?',\n",
       " '알레르기를 관리하는 계획에는 어떤 호르몬을 투여하는 것도 포함되는가?',\n",
       " '역할을 가장 먼저 구체화 시킨 사람은?',\n",
       " \"윤치호가 '질곡의 인디아' 저자를 만났던 해는?\",\n",
       " '<구해줘> 바로 이전에 출간된 책은?',\n",
       " '보니파시오가 캔터베리 대주교에게 권고 서신을 보낸 적 있다고 말한 사람은?',\n",
       " '오스트레일리아의 새로운 개혁정책은 주위 어느 나라에 영향을 주었는가?',\n",
       " \"가와바타가 술 '고도'를 직접 사와서 시음시킨 사람은?\",\n",
       " '미국 국민들이 일본 대지진에 대한 관심을 갖도록 만드는 데 도움을 준 미국의 인물은?',\n",
       " '신혜왕후가 묻혀있는 지역은?',\n",
       " '요안니스 5세의 쿠테타를 지원한 것은 어느 나라인가?',\n",
       " '대한민국 보물 제 1540호를 보관하는 장소는 어디인가?',\n",
       " '히틀러의 권한을 합법적으로 확대시켜준 국가 기관은?',\n",
       " '연구자들이 설계된 실험실을 이용하는 것은 무엇을 위해서인가?',\n",
       " '세리자와 박사가 숨기려고 한 것은?',\n",
       " '1642년 초 이후로 누구의 군대가 유일하게 방패막으로 쓰였나요?',\n",
       " '삼탄당 인산 이성질화효소 결핍증은 주로 어떤 물질의 돌연변이로 일어나나요?',\n",
       " '투자 초기 비용보다 매출액이 적더라도 흑자로 판단할 수 있는 기준은?',\n",
       " '첫 해의 기대보다 65% 높은 기수를 받은 노선은?',\n",
       " '일부 볼펜에서 잉크가 비교적 빨리 건조되기 위해 사용되는 것은?',\n",
       " '2012년 런던 올림픽 결승전에서 리네르에게 패한 사람은 누구인가?',\n",
       " '에센의 시장에 하이네만이 당선된 해는?',\n",
       " '조선인민공화국에서 최고로 높은 직위에 오른 자는?',\n",
       " '조선수군의 길목을 차단하기 위해 일본군이 설치한 왜성이 위치한 장소는?',\n",
       " '윤치호는 누구의 집에 숨어있었는가?',\n",
       " '오목이 수지에게 청탁한 남편의 일자리 장소는?',\n",
       " '화순 유마사 해련탑은 누구의 무덤인가요?',\n",
       " '코페르니쿠스가 겨울 학기에 등록한 대학은 무슨 대학으로 불리기도 하는가?',\n",
       " '정란이 방벽에 도달하면 방벽과 탑사이에 내리는 것은?',\n",
       " '리파리 섬을 공격했을 때 아테네의 군사근거지 위치는 어디였나?',\n",
       " '알키온의 주교 자리를 빼앗은 사람은?',\n",
       " '보닌이 살인 혐의로 체포되어 받은 형벌은?',\n",
       " '러시아가 동원령을 내린 것은 어느 나라를 견제하기 위해서인가?',\n",
       " '진석중이 잠업에 대한 전문기술을 습득한 기관은?',\n",
       " '정중부의 난 이전 병권을 장악한 집단은?',\n",
       " '서머힐 스쿨 조사관들의 주장이 주관적인 듯이 말한 사람은?',\n",
       " '설계자들이 원래 스카버러 도심을 만들려고 했던 곳은?',\n",
       " '유심 교수가 오랫동안 인터뷰를 해온 자들은?',\n",
       " '베이핑-톈진 전투가 시작된 연도는?',\n",
       " '2008년 당시 몰디브의 부통령은?',\n",
       " '클린턴과 힐러리 여사가 저질렀다는 혐의를 받았던 스캔들은?',\n",
       " '연방군의 레이다를 무력화시킨 화학무기는?',\n",
       " '양인 전투에서 손견군과 충돌한 부대는?',\n",
       " '과거 우리나라의 전국지는 어디서 출간되었나?',\n",
       " '여성 작가들이 언제부터 여성 등장인물에 관심을 가지기 시작했나요?',\n",
       " '오늘날 양치식물이 다 자랐을 때 최대 높이는 몇 미터 미만인가?',\n",
       " '알렉스의 직업은?',\n",
       " '스위니 토드의 본명은?',\n",
       " '박기출이 후보지명 되면 조한백, 박재우, 장준하 등이 취하겠다고 한 행동은?',\n",
       " '미네소타주 경찰이 오마르 히메네스를 체포한 날짜는 언제인가요?',\n",
       " '모토코의 몸 중에 인공적인 기계장치로 되어 있지 않은 곳은?',\n",
       " '오에카키라는 이름의 모티브는?',\n",
       " '루트비히 2세의 사망 이후, 동프랑크 왕국의 중북부 지방의 땅을 물려받은 인물은?',\n",
       " '수사들이 전쟁의 대가로 지은 건물은?',\n",
       " '모세상은 누구를 위해 만들어졌었는가?',\n",
       " '최재수는 2012년에 어디로 이적했는가?',\n",
       " '핵무기 개발건으로 미국과 갈등을 겪다가 통합군사 조직에서 빠진 나라는?',\n",
       " '셀레우쿠스에게 왕좌를 계승받은 사람은?',\n",
       " '헤드크랩의 공격을 받은 레이븐홈의 사람들은 어떤 존재로 변하였는가?',\n",
       " '게요인이 슨푸로 이사간 이유는?',\n",
       " '노동운동 단체가 소멸하기 시작한 연도는?',\n",
       " '속리산에서 임경업 장군의 설화가 깃들어있는 곳은 어디인가?',\n",
       " '할리퀸이 소설 분위기를 미국풍으로 바꿀 무렵 세운 자회사는?',\n",
       " '맥국이라는 명칭을 알린 사람은?',\n",
       " '쿠틉 앗딘이 이라크에 있는 칼리프 영지를 점거하기 위해 출정을 시작한 지역은?',\n",
       " \"에스토니아는 희망을 가졌는가' 를 발표한 인물이 리투아니와 협력한 떄는?\",\n",
       " '오두막의 첫 손님은 어떤 물건을 활용해 자살했는가?',\n",
       " '<어린이와 가정을 위한 이야기>는 원래 몇 편의 이야기로 구성되었나?',\n",
       " '인민군이 세르비아를 확장하는 쪽으로 돌아서게 만든 사람은?',\n",
       " '2008년에 니콜리치와 대선에서 맞붙어 승리한 인물은?',\n",
       " 'Music Box앨범 이후 다음 앨범의 작업을 시작한 연도는?',\n",
       " '서울교대를 상징하는 동물을 정한 연도는?',\n",
       " '국내무사가 체포 활동에 참가한 것은 무엇 때문인가?',\n",
       " '어떤 부서가 통일전선조직의 활동을 규제하는가?',\n",
       " '미국에서 나폴리식 요리를 의미하는 요리는?',\n",
       " '미국이 한국과 더불어 비전략 핵무기를 공유하는 아시아의 파트너 나라는?',\n",
       " '도르발 공항보다 미라벨 공항을 많이 이용할 것이라고 예측했던 기관은?',\n",
       " '대성전의 전면 퇴칸을 제외한 면에 만들어진 것은?',\n",
       " '임진왜란에서 일본 수군을 격파한 조선의 배는 무엇인가?',\n",
       " '\"이탈리아의 예술의 궁전\"이라는 별명을 가진 도시는?',\n",
       " '삼길암 목조관음보살좌상이 조성된 해는?',\n",
       " '원래 요괴를 위해 만들었으나 차후 인간들의 신봉도 받게된 시설은?',\n",
       " '중국 국민당정부의 도움으로 1932년 설립된 교육 기관은?',\n",
       " '한국이 무시한 일본 측의 주장은?',\n",
       " '서인들은 어떤 왕에게 정여립의 탄핵을 주장하는 상소를 올렸는가?',\n",
       " '다키스트 던전을 만든 회사는?',\n",
       " '학생들이 일본인 선생들을 몰아내기 위해 동맹휴학 시위를 일으킨 해는 ?',\n",
       " '장면이 가족과 떨어져 거처를 옮긴 곳은?',\n",
       " '프리비슬린스키 크라이는 어느 나라에 소속되어 있었는가?',\n",
       " '경찰은 어떤 기관의 GPS를 이용하여 오원춘을 체포할 수 있었나요?',\n",
       " '도무라 가즈사쿠가 대표로 있던 단체가 공산당과 결별을 선언했던 시기는?',\n",
       " '퍼시벌에게 앙심을 품고 총을 쏜 인물은?',\n",
       " '19세 이하 남녀가 한국대표로 참가할 수 있는 대회는?',\n",
       " '광운전자공과대학 이전에 사용되던 명칭은 무엇인가요?',\n",
       " \"하나를 철거하면 열을 건다' 운동에 사용된 플랜카드의 내용은?\",\n",
       " '찰스 2세가 국내로 돌아오기 전에 있던 국가는?',\n",
       " '필리포스 5세와 영토를 공유하기로 합의한 사람은?',\n",
       " '사용자가 마비노기에서 고를 수 있는 종족은 총 몇 개인가?',\n",
       " '클래식 연주시 중해금은 어느 악기 옆에 위치해 있는가?',\n",
       " 'PK, 수탈을 목적으로 하는 플레이어에게 인기가 많은 직업군은?',\n",
       " '백병전은 사람의 신체부위 중 어디를 겨냥하는 무술인가?',\n",
       " '폭스바겐이 곤충명을 이름으로 지은 차량은?',\n",
       " '윤치호가 고종 독살설을 믿게된 것은 누구 때문인가?',\n",
       " '금동관음보살입상이 처음 발견된곳으로 추정되는곳은?',\n",
       " '헌제는 추격을 당하다 누구에게 도움을 청하였나요?',\n",
       " '이용문이 육군본부의 장교들과 의견을 나눴던 곳은?',\n",
       " '용수로가 운반하는 것은?',\n",
       " '사회민주주의와 민주사회주의를 합친 사상을 가진 집단의 우두머리는 누구인가?',\n",
       " '인간에게 불타는 느낌의 아픔을 주는 것은?',\n",
       " '처음에는 후짱을 반대했지만 마지막에 후짱의 도움을 받은 인물은?',\n",
       " '듀이는 닉슨을 공천 후보에서 내리는 것이 어떤 결과를 초래할 것이라고 말했는가?',\n",
       " '대신들이 대홍려 풍야왕을 추천한 직위는?',\n",
       " '코르비니아노가 비판한 인물은 누구와 혼인하였나요?',\n",
       " '조청상민수륙무역장정중의 8개조중, 장정의 개정에 대한 조항은?',\n",
       " '관음정사 존상은 무엇으로 만들어졌나요?',\n",
       " '이규완이 강원도에 철도 건설을 제안할 당시 직책은 무엇이었는가?',\n",
       " '법맥과 전등을 중시하면 스승없이 깨달음을 얻을 수 없다고 주장한 사람은?',\n",
       " '《그리스 비극 시대의 철학》은 누구의 저서인가?',\n",
       " '중국 공산당원과 가족의 미국 입국 금지 방안 검토와 관련된 마이크 폼페이오 장관의 입장을 보도한 언론은?',\n",
       " '디즈니랜드에서 개인회원을 뽑기 시작한 년도는?',\n",
       " '타입 2 가이아 메모리을 만든 집단은?',\n",
       " '장면이 정치보복에 반대하는 입장에서 처벌을 원치 않은 대상은?',\n",
       " '콜드게임 중 어떠한 계기로 인해 잠시 중단된 뒤, 익일에 게임이 진행되는 것은?',\n",
       " '제2캐나다기갑여단이 상륙한 곳은?',\n",
       " '구립운석을 이루는 물질 중 널리 알려진 것은?']"
      ]
     },
     "execution_count": 95,
     "metadata": {},
     "output_type": "execute_result"
    }
   ],
   "source": [
    "test_data['validation']['question']"
   ]
  },
  {
   "cell_type": "code",
   "execution_count": null,
   "id": "287edec4",
   "metadata": {},
   "outputs": [],
   "source": []
  }
 ],
 "metadata": {
  "interpreter": {
   "hash": "d4d1e4263499bec80672ea0156c357c1ee493ec2b1c70f0acce89fc37c4a6abe"
  },
  "kernelspec": {
   "display_name": "Python 3",
   "language": "python",
   "name": "python3"
  },
  "language_info": {
   "codemirror_mode": {
    "name": "ipython",
    "version": 3
   },
   "file_extension": ".py",
   "mimetype": "text/x-python",
   "name": "python",
   "nbconvert_exporter": "python",
   "pygments_lexer": "ipython3",
   "version": "3.8.5"
  }
 },
 "nbformat": 4,
 "nbformat_minor": 5
}
